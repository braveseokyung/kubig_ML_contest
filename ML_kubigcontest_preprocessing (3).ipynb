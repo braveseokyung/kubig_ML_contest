{
  "cells": [
    {
      "cell_type": "markdown",
      "metadata": {
        "id": "dOPQBUzPuXpn"
      },
      "source": [
        "# 0. Download Dataset"
      ]
    },
    {
      "cell_type": "code",
      "source": [
        "import pandas as pd\n",
        "import numpy as np\n",
        "from sklearn.preprocessing import LabelEncoder\n",
        "import lightgbm as lgb\n",
        "import gc"
      ],
      "metadata": {
        "id": "Ll_lRZG-8j1p"
      },
      "execution_count": 1,
      "outputs": []
    },
    {
      "cell_type": "code",
      "execution_count": 2,
      "metadata": {
        "id": "4V4dsmqguEGl",
        "colab": {
          "base_uri": "https://localhost:8080/"
        },
        "outputId": "088be8ec-5d04-46bb-fc2c-ef0f3aaecdaa"
      },
      "outputs": [
        {
          "output_type": "stream",
          "name": "stdout",
          "text": [
            "Mounted at /content/drive\n"
          ]
        }
      ],
      "source": [
        "from google.colab import drive\n",
        "drive.mount('/content/drive',force_remount=True)"
      ]
    },
    {
      "cell_type": "code",
      "execution_count": 3,
      "metadata": {
        "id": "b_JzzxiGudkt",
        "colab": {
          "base_uri": "https://localhost:8080/"
        },
        "outputId": "efefbb83-9986-4873-f86b-d5b6af01bce4"
      },
      "outputs": [
        {
          "output_type": "stream",
          "name": "stdout",
          "text": [
            "Archive:  drive/MyDrive/kubig_ML/kubig_ML_contest/jeju.zip\n",
            "replace open/data_info.csv? [y]es, [n]o, [A]ll, [N]one, [r]ename: n\n",
            "replace open/sample_submission.csv? [y]es, [n]o, [A]ll, [N]one, [r]ename: n\n",
            "replace open/test.csv? [y]es, [n]o, [A]ll, [N]one, [r]ename: n\n",
            "replace open/train.csv? [y]es, [n]o, [A]ll, [N]one, [r]ename: n\n"
          ]
        }
      ],
      "source": [
        "!unzip drive/MyDrive/kubig_ML/kubig_ML_contest/jeju.zip"
      ]
    },
    {
      "cell_type": "code",
      "execution_count": 4,
      "metadata": {
        "id": "LuP0z1Q9vqYr"
      },
      "outputs": [],
      "source": [
        "import pandas as pd\n",
        "data_info=pd.read_csv('open/data_info.csv')\n",
        "train=pd.read_csv('open/train.csv')\n",
        "test=pd.read_csv('open/test.csv')"
      ]
    },
    {
      "cell_type": "code",
      "source": [
        "def csv_to_parquet(csv_path, save_name):\n",
        "    df = pd.read_csv(csv_path)\n",
        "    df.to_parquet(f'./{save_name}.parquet')\n",
        "    del df\n",
        "    gc.collect()\n",
        "    print(save_name, 'Done.')"
      ],
      "metadata": {
        "id": "pRmndAW08ome"
      },
      "execution_count": 5,
      "outputs": []
    },
    {
      "cell_type": "code",
      "source": [
        "csv_to_parquet('open/train.csv', 'train')\n",
        "csv_to_parquet('open/test.csv', 'test')"
      ],
      "metadata": {
        "colab": {
          "base_uri": "https://localhost:8080/"
        },
        "id": "TQEOjdHU8xDQ",
        "outputId": "75d2ed5e-3b4c-4680-a6a1-a6f5ce867eee"
      },
      "execution_count": 6,
      "outputs": [
        {
          "output_type": "stream",
          "name": "stdout",
          "text": [
            "train Done.\n",
            "test Done.\n"
          ]
        }
      ]
    },
    {
      "cell_type": "code",
      "source": [
        "train = pd.read_parquet('./train.parquet')\n",
        "test = pd.read_parquet('./test.parquet')"
      ],
      "metadata": {
        "id": "ivfQ4Zvl83SX"
      },
      "execution_count": 7,
      "outputs": []
    },
    {
      "cell_type": "code",
      "source": [
        "train_prep=train.copy()\n",
        "test_prep=test.copy()"
      ],
      "metadata": {
        "id": "TpesXlw7-j1B"
      },
      "execution_count": 8,
      "outputs": []
    },
    {
      "cell_type": "code",
      "source": [
        "train.columns"
      ],
      "metadata": {
        "colab": {
          "base_uri": "https://localhost:8080/"
        },
        "id": "e1TkOi3UxPg0",
        "outputId": "e78c7d2d-b6c5-4e09-8019-3340ed5d91e7"
      },
      "execution_count": 9,
      "outputs": [
        {
          "output_type": "execute_result",
          "data": {
            "text/plain": [
              "Index(['id', 'base_date', 'day_of_week', 'base_hour', 'lane_count',\n",
              "       'road_rating', 'road_name', 'multi_linked', 'connect_code',\n",
              "       'maximum_speed_limit', 'vehicle_restricted', 'weight_restricted',\n",
              "       'height_restricted', 'road_type', 'start_node_name', 'start_latitude',\n",
              "       'start_longitude', 'start_turn_restricted', 'end_node_name',\n",
              "       'end_latitude', 'end_longitude', 'end_turn_restricted', 'target'],\n",
              "      dtype='object')"
            ]
          },
          "metadata": {},
          "execution_count": 9
        }
      ]
    },
    {
      "cell_type": "code",
      "source": [
        "train[train.drop(columns=['id','target']).duplicated()]"
      ],
      "metadata": {
        "colab": {
          "base_uri": "https://localhost:8080/",
          "height": 143
        },
        "id": "Uh0O8-gpxEoi",
        "outputId": "5f305c2d-b776-41fd-d03f-99369022c145"
      },
      "execution_count": 10,
      "outputs": [
        {
          "output_type": "execute_result",
          "data": {
            "text/plain": [
              "Empty DataFrame\n",
              "Columns: [id, base_date, day_of_week, base_hour, lane_count, road_rating, road_name, multi_linked, connect_code, maximum_speed_limit, vehicle_restricted, weight_restricted, height_restricted, road_type, start_node_name, start_latitude, start_longitude, start_turn_restricted, end_node_name, end_latitude, end_longitude, end_turn_restricted, target]\n",
              "Index: []\n",
              "\n",
              "[0 rows x 23 columns]"
            ],
            "text/html": [
              "\n",
              "  <div id=\"df-91274009-0757-4a4b-9cda-41b7eb8245b5\">\n",
              "    <div class=\"colab-df-container\">\n",
              "      <div>\n",
              "<style scoped>\n",
              "    .dataframe tbody tr th:only-of-type {\n",
              "        vertical-align: middle;\n",
              "    }\n",
              "\n",
              "    .dataframe tbody tr th {\n",
              "        vertical-align: top;\n",
              "    }\n",
              "\n",
              "    .dataframe thead th {\n",
              "        text-align: right;\n",
              "    }\n",
              "</style>\n",
              "<table border=\"1\" class=\"dataframe\">\n",
              "  <thead>\n",
              "    <tr style=\"text-align: right;\">\n",
              "      <th></th>\n",
              "      <th>id</th>\n",
              "      <th>base_date</th>\n",
              "      <th>day_of_week</th>\n",
              "      <th>base_hour</th>\n",
              "      <th>lane_count</th>\n",
              "      <th>road_rating</th>\n",
              "      <th>road_name</th>\n",
              "      <th>multi_linked</th>\n",
              "      <th>connect_code</th>\n",
              "      <th>maximum_speed_limit</th>\n",
              "      <th>...</th>\n",
              "      <th>road_type</th>\n",
              "      <th>start_node_name</th>\n",
              "      <th>start_latitude</th>\n",
              "      <th>start_longitude</th>\n",
              "      <th>start_turn_restricted</th>\n",
              "      <th>end_node_name</th>\n",
              "      <th>end_latitude</th>\n",
              "      <th>end_longitude</th>\n",
              "      <th>end_turn_restricted</th>\n",
              "      <th>target</th>\n",
              "    </tr>\n",
              "  </thead>\n",
              "  <tbody>\n",
              "  </tbody>\n",
              "</table>\n",
              "<p>0 rows × 23 columns</p>\n",
              "</div>\n",
              "      <button class=\"colab-df-convert\" onclick=\"convertToInteractive('df-91274009-0757-4a4b-9cda-41b7eb8245b5')\"\n",
              "              title=\"Convert this dataframe to an interactive table.\"\n",
              "              style=\"display:none;\">\n",
              "        \n",
              "  <svg xmlns=\"http://www.w3.org/2000/svg\" height=\"24px\"viewBox=\"0 0 24 24\"\n",
              "       width=\"24px\">\n",
              "    <path d=\"M0 0h24v24H0V0z\" fill=\"none\"/>\n",
              "    <path d=\"M18.56 5.44l.94 2.06.94-2.06 2.06-.94-2.06-.94-.94-2.06-.94 2.06-2.06.94zm-11 1L8.5 8.5l.94-2.06 2.06-.94-2.06-.94L8.5 2.5l-.94 2.06-2.06.94zm10 10l.94 2.06.94-2.06 2.06-.94-2.06-.94-.94-2.06-.94 2.06-2.06.94z\"/><path d=\"M17.41 7.96l-1.37-1.37c-.4-.4-.92-.59-1.43-.59-.52 0-1.04.2-1.43.59L10.3 9.45l-7.72 7.72c-.78.78-.78 2.05 0 2.83L4 21.41c.39.39.9.59 1.41.59.51 0 1.02-.2 1.41-.59l7.78-7.78 2.81-2.81c.8-.78.8-2.07 0-2.86zM5.41 20L4 18.59l7.72-7.72 1.47 1.35L5.41 20z\"/>\n",
              "  </svg>\n",
              "      </button>\n",
              "      \n",
              "  <style>\n",
              "    .colab-df-container {\n",
              "      display:flex;\n",
              "      flex-wrap:wrap;\n",
              "      gap: 12px;\n",
              "    }\n",
              "\n",
              "    .colab-df-convert {\n",
              "      background-color: #E8F0FE;\n",
              "      border: none;\n",
              "      border-radius: 50%;\n",
              "      cursor: pointer;\n",
              "      display: none;\n",
              "      fill: #1967D2;\n",
              "      height: 32px;\n",
              "      padding: 0 0 0 0;\n",
              "      width: 32px;\n",
              "    }\n",
              "\n",
              "    .colab-df-convert:hover {\n",
              "      background-color: #E2EBFA;\n",
              "      box-shadow: 0px 1px 2px rgba(60, 64, 67, 0.3), 0px 1px 3px 1px rgba(60, 64, 67, 0.15);\n",
              "      fill: #174EA6;\n",
              "    }\n",
              "\n",
              "    [theme=dark] .colab-df-convert {\n",
              "      background-color: #3B4455;\n",
              "      fill: #D2E3FC;\n",
              "    }\n",
              "\n",
              "    [theme=dark] .colab-df-convert:hover {\n",
              "      background-color: #434B5C;\n",
              "      box-shadow: 0px 1px 3px 1px rgba(0, 0, 0, 0.15);\n",
              "      filter: drop-shadow(0px 1px 2px rgba(0, 0, 0, 0.3));\n",
              "      fill: #FFFFFF;\n",
              "    }\n",
              "  </style>\n",
              "\n",
              "      <script>\n",
              "        const buttonEl =\n",
              "          document.querySelector('#df-91274009-0757-4a4b-9cda-41b7eb8245b5 button.colab-df-convert');\n",
              "        buttonEl.style.display =\n",
              "          google.colab.kernel.accessAllowed ? 'block' : 'none';\n",
              "\n",
              "        async function convertToInteractive(key) {\n",
              "          const element = document.querySelector('#df-91274009-0757-4a4b-9cda-41b7eb8245b5');\n",
              "          const dataTable =\n",
              "            await google.colab.kernel.invokeFunction('convertToInteractive',\n",
              "                                                     [key], {});\n",
              "          if (!dataTable) return;\n",
              "\n",
              "          const docLinkHtml = 'Like what you see? Visit the ' +\n",
              "            '<a target=\"_blank\" href=https://colab.research.google.com/notebooks/data_table.ipynb>data table notebook</a>'\n",
              "            + ' to learn more about interactive tables.';\n",
              "          element.innerHTML = '';\n",
              "          dataTable['output_type'] = 'display_data';\n",
              "          await google.colab.output.renderOutput(dataTable, element);\n",
              "          const docLink = document.createElement('div');\n",
              "          docLink.innerHTML = docLinkHtml;\n",
              "          element.appendChild(docLink);\n",
              "        }\n",
              "      </script>\n",
              "    </div>\n",
              "  </div>\n",
              "  "
            ]
          },
          "metadata": {},
          "execution_count": 10
        }
      ]
    },
    {
      "cell_type": "markdown",
      "source": [
        "# Preprocessing"
      ],
      "metadata": {
        "id": "GI2X271E9w9g"
      }
    },
    {
      "cell_type": "markdown",
      "source": [
        "## 불필요한 변수 제거"
      ],
      "metadata": {
        "id": "r1zn5Dgv-E0b"
      }
    },
    {
      "cell_type": "code",
      "source": [
        "train_prep.drop(['vehicle_restricted', 'id', 'height_restricted'], axis = 1, inplace = True)\n",
        "test_prep.drop(['vehicle_restricted', 'id', 'height_restricted'], axis = 1, inplace = True)"
      ],
      "metadata": {
        "id": "43DlyjHo-L99"
      },
      "execution_count": 11,
      "outputs": []
    },
    {
      "cell_type": "markdown",
      "source": [
        "## 'base_date' 처리\n",
        "'day' : drop"
      ],
      "metadata": {
        "id": "F-zYe9z8-9aF"
      }
    },
    {
      "cell_type": "code",
      "source": [
        "# 날짜\n",
        "# 연/일/월 파생변수 생성\n",
        "train_prep[\"base_date\"] = pd.to_datetime(train_prep[\"base_date\"],format='%Y%m%d')\n",
        "train_prep['year']= train_prep['base_date'].dt.year     # 데이터를 2021, 2022 구분\n",
        "train_prep['month']= train_prep['base_date'].dt.month   # 데이터를 월별로 구분(4, 8월 데이터 없음)\n",
        "train_prep['day']= train_prep['base_date'].dt.day       # 데이터를 일자(31일)별로 구분"
      ],
      "metadata": {
        "id": "f2b9oQHD_C3q"
      },
      "execution_count": 12,
      "outputs": []
    },
    {
      "cell_type": "code",
      "source": [
        "# 날짜\n",
        "# 연/일/월 파생변수 생성\n",
        "test_prep[\"base_date\"] = pd.to_datetime(test_prep[\"base_date\"],format='%Y%m%d')\n",
        "test_prep['year']= test_prep['base_date'].dt.year     # 데이터를 2021, 2022 구분\n",
        "test_prep['month']= test_prep['base_date'].dt.month   # 데이터를 월별로 구분(4, 8월 데이터 없음)\n",
        "test_prep['day']= test_prep['base_date'].dt.day       # 데이터를 일자(31일)별로 구분"
      ],
      "metadata": {
        "id": "PNMKAF7U_Qym"
      },
      "execution_count": 13,
      "outputs": []
    },
    {
      "cell_type": "code",
      "source": [
        "train_prep=train_prep.drop(columns=\"base_date\")\n",
        "test_prep=test_prep.drop(columns=\"base_date\")"
      ],
      "metadata": {
        "id": "4_REQIk1_6pV"
      },
      "execution_count": 14,
      "outputs": []
    },
    {
      "cell_type": "markdown",
      "source": [
        "## 'start_turn_restricted', 'end_turn_restricted' : 0,1로 encoding"
      ],
      "metadata": {
        "id": "Hkx1k13TATpB"
      }
    },
    {
      "cell_type": "code",
      "source": [
        "train_prep['start_turn_restricted']=train_prep['start_turn_restricted'].replace(['있음','없음'],[1,0])\n",
        "train_prep['end_turn_restricted']=train_prep['end_turn_restricted'].replace(['있음','없음'],[1,0])"
      ],
      "metadata": {
        "id": "5SP8zvm6AacY"
      },
      "execution_count": 15,
      "outputs": []
    },
    {
      "cell_type": "code",
      "source": [
        "test_prep['start_turn_restricted']=test_prep['start_turn_restricted'].replace(['있음','없음'],[1,0])\n",
        "test_prep['end_turn_restricted']=test_prep['end_turn_restricted'].replace(['있음','없음'],[1,0])"
      ],
      "metadata": {
        "id": "-xn3W-C4Awge"
      },
      "execution_count": 16,
      "outputs": []
    },
    {
      "cell_type": "markdown",
      "source": [
        "## 파생변수 : 공휴일 변수 'holiday' 추가"
      ],
      "metadata": {
        "id": "D87eAvGTBWzR"
      }
    },
    {
      "cell_type": "code",
      "source": [
        "# 공휴일 파생변수(외부 데이터)\n",
        "holiday = pd.read_csv('drive/MyDrive/kubig_ML/kubig_ML_contest/holiday.csv')\n",
        "holiday.head()"
      ],
      "metadata": {
        "colab": {
          "base_uri": "https://localhost:8080/",
          "height": 206
        },
        "id": "uSeMow8VDwpH",
        "outputId": "9d99e709-54a1-444f-e788-c7bc8c9d25d5"
      },
      "execution_count": 17,
      "outputs": [
        {
          "output_type": "execute_result",
          "data": {
            "text/plain": [
              "   year  month  day  is_holiday\n",
              "0  2021      1    1           1\n",
              "1  2021      2   11           1\n",
              "2  2021      2   12           1\n",
              "3  2021      2   13           1\n",
              "4  2021      3    1           1"
            ],
            "text/html": [
              "\n",
              "  <div id=\"df-2668415d-59dc-4932-acd4-81fea7de2de2\">\n",
              "    <div class=\"colab-df-container\">\n",
              "      <div>\n",
              "<style scoped>\n",
              "    .dataframe tbody tr th:only-of-type {\n",
              "        vertical-align: middle;\n",
              "    }\n",
              "\n",
              "    .dataframe tbody tr th {\n",
              "        vertical-align: top;\n",
              "    }\n",
              "\n",
              "    .dataframe thead th {\n",
              "        text-align: right;\n",
              "    }\n",
              "</style>\n",
              "<table border=\"1\" class=\"dataframe\">\n",
              "  <thead>\n",
              "    <tr style=\"text-align: right;\">\n",
              "      <th></th>\n",
              "      <th>year</th>\n",
              "      <th>month</th>\n",
              "      <th>day</th>\n",
              "      <th>is_holiday</th>\n",
              "    </tr>\n",
              "  </thead>\n",
              "  <tbody>\n",
              "    <tr>\n",
              "      <th>0</th>\n",
              "      <td>2021</td>\n",
              "      <td>1</td>\n",
              "      <td>1</td>\n",
              "      <td>1</td>\n",
              "    </tr>\n",
              "    <tr>\n",
              "      <th>1</th>\n",
              "      <td>2021</td>\n",
              "      <td>2</td>\n",
              "      <td>11</td>\n",
              "      <td>1</td>\n",
              "    </tr>\n",
              "    <tr>\n",
              "      <th>2</th>\n",
              "      <td>2021</td>\n",
              "      <td>2</td>\n",
              "      <td>12</td>\n",
              "      <td>1</td>\n",
              "    </tr>\n",
              "    <tr>\n",
              "      <th>3</th>\n",
              "      <td>2021</td>\n",
              "      <td>2</td>\n",
              "      <td>13</td>\n",
              "      <td>1</td>\n",
              "    </tr>\n",
              "    <tr>\n",
              "      <th>4</th>\n",
              "      <td>2021</td>\n",
              "      <td>3</td>\n",
              "      <td>1</td>\n",
              "      <td>1</td>\n",
              "    </tr>\n",
              "  </tbody>\n",
              "</table>\n",
              "</div>\n",
              "      <button class=\"colab-df-convert\" onclick=\"convertToInteractive('df-2668415d-59dc-4932-acd4-81fea7de2de2')\"\n",
              "              title=\"Convert this dataframe to an interactive table.\"\n",
              "              style=\"display:none;\">\n",
              "        \n",
              "  <svg xmlns=\"http://www.w3.org/2000/svg\" height=\"24px\"viewBox=\"0 0 24 24\"\n",
              "       width=\"24px\">\n",
              "    <path d=\"M0 0h24v24H0V0z\" fill=\"none\"/>\n",
              "    <path d=\"M18.56 5.44l.94 2.06.94-2.06 2.06-.94-2.06-.94-.94-2.06-.94 2.06-2.06.94zm-11 1L8.5 8.5l.94-2.06 2.06-.94-2.06-.94L8.5 2.5l-.94 2.06-2.06.94zm10 10l.94 2.06.94-2.06 2.06-.94-2.06-.94-.94-2.06-.94 2.06-2.06.94z\"/><path d=\"M17.41 7.96l-1.37-1.37c-.4-.4-.92-.59-1.43-.59-.52 0-1.04.2-1.43.59L10.3 9.45l-7.72 7.72c-.78.78-.78 2.05 0 2.83L4 21.41c.39.39.9.59 1.41.59.51 0 1.02-.2 1.41-.59l7.78-7.78 2.81-2.81c.8-.78.8-2.07 0-2.86zM5.41 20L4 18.59l7.72-7.72 1.47 1.35L5.41 20z\"/>\n",
              "  </svg>\n",
              "      </button>\n",
              "      \n",
              "  <style>\n",
              "    .colab-df-container {\n",
              "      display:flex;\n",
              "      flex-wrap:wrap;\n",
              "      gap: 12px;\n",
              "    }\n",
              "\n",
              "    .colab-df-convert {\n",
              "      background-color: #E8F0FE;\n",
              "      border: none;\n",
              "      border-radius: 50%;\n",
              "      cursor: pointer;\n",
              "      display: none;\n",
              "      fill: #1967D2;\n",
              "      height: 32px;\n",
              "      padding: 0 0 0 0;\n",
              "      width: 32px;\n",
              "    }\n",
              "\n",
              "    .colab-df-convert:hover {\n",
              "      background-color: #E2EBFA;\n",
              "      box-shadow: 0px 1px 2px rgba(60, 64, 67, 0.3), 0px 1px 3px 1px rgba(60, 64, 67, 0.15);\n",
              "      fill: #174EA6;\n",
              "    }\n",
              "\n",
              "    [theme=dark] .colab-df-convert {\n",
              "      background-color: #3B4455;\n",
              "      fill: #D2E3FC;\n",
              "    }\n",
              "\n",
              "    [theme=dark] .colab-df-convert:hover {\n",
              "      background-color: #434B5C;\n",
              "      box-shadow: 0px 1px 3px 1px rgba(0, 0, 0, 0.15);\n",
              "      filter: drop-shadow(0px 1px 2px rgba(0, 0, 0, 0.3));\n",
              "      fill: #FFFFFF;\n",
              "    }\n",
              "  </style>\n",
              "\n",
              "      <script>\n",
              "        const buttonEl =\n",
              "          document.querySelector('#df-2668415d-59dc-4932-acd4-81fea7de2de2 button.colab-df-convert');\n",
              "        buttonEl.style.display =\n",
              "          google.colab.kernel.accessAllowed ? 'block' : 'none';\n",
              "\n",
              "        async function convertToInteractive(key) {\n",
              "          const element = document.querySelector('#df-2668415d-59dc-4932-acd4-81fea7de2de2');\n",
              "          const dataTable =\n",
              "            await google.colab.kernel.invokeFunction('convertToInteractive',\n",
              "                                                     [key], {});\n",
              "          if (!dataTable) return;\n",
              "\n",
              "          const docLinkHtml = 'Like what you see? Visit the ' +\n",
              "            '<a target=\"_blank\" href=https://colab.research.google.com/notebooks/data_table.ipynb>data table notebook</a>'\n",
              "            + ' to learn more about interactive tables.';\n",
              "          element.innerHTML = '';\n",
              "          dataTable['output_type'] = 'display_data';\n",
              "          await google.colab.output.renderOutput(dataTable, element);\n",
              "          const docLink = document.createElement('div');\n",
              "          docLink.innerHTML = docLinkHtml;\n",
              "          element.appendChild(docLink);\n",
              "        }\n",
              "      </script>\n",
              "    </div>\n",
              "  </div>\n",
              "  "
            ]
          },
          "metadata": {},
          "execution_count": 17
        }
      ]
    },
    {
      "cell_type": "code",
      "source": [
        "# holiday df와 train df 합쳐주기\n",
        "train_prep = train_prep.merge(holiday[['year', 'month', 'day','is_holiday']], how='left', on=['year', 'month','day'])\n",
        "train_prep['is_holiday']=train_prep['is_holiday'].fillna(0)\n",
        "train_prep"
      ],
      "metadata": {
        "colab": {
          "base_uri": "https://localhost:8080/",
          "height": 592
        },
        "id": "GvpjfeTLEDhP",
        "outputId": "3db7e3c1-f4cd-416e-a355-20d397354868"
      },
      "execution_count": 18,
      "outputs": [
        {
          "output_type": "execute_result",
          "data": {
            "text/plain": [
              "        day_of_week  base_hour  lane_count  road_rating  road_name  \\\n",
              "0                 목         17           1          106  지방도1112호선   \n",
              "1                 목         21           2          103   일반국도11호선   \n",
              "2                 일          7           2          103   일반국도16호선   \n",
              "3                 금         13           2          107        태평로   \n",
              "4                 화          8           2          103   일반국도12호선   \n",
              "...             ...        ...         ...          ...        ...   \n",
              "4701212           목         16           1          107          -   \n",
              "4701213           목          2           2          107          -   \n",
              "4701214           월         22           2          103   일반국도12호선   \n",
              "4701215           수          2           2          103   일반국도95호선   \n",
              "4701216           화          6           2          107        경찰로   \n",
              "\n",
              "         multi_linked  connect_code  maximum_speed_limit  weight_restricted  \\\n",
              "0                   0             0                 60.0            32400.0   \n",
              "1                   0             0                 60.0                0.0   \n",
              "2                   0             0                 80.0                0.0   \n",
              "3                   0             0                 50.0                0.0   \n",
              "4                   0             0                 80.0                0.0   \n",
              "...               ...           ...                  ...                ...   \n",
              "4701212             0             0                 50.0                0.0   \n",
              "4701213             0             0                 80.0            43200.0   \n",
              "4701214             0             0                 60.0                0.0   \n",
              "4701215             0             0                 80.0                0.0   \n",
              "4701216             0             0                 60.0                0.0   \n",
              "\n",
              "         road_type  ... start_turn_restricted  end_node_name  end_latitude  \\\n",
              "0                3  ...                     0          제3교래교     33.427749   \n",
              "1                0  ...                     1         KAL사거리     33.504811   \n",
              "2                0  ...                     0           상창육교     33.280072   \n",
              "3                0  ...                     0           서현주택     33.245565   \n",
              "4                0  ...                     0           애월입구     33.462677   \n",
              "...            ...  ...                   ...            ...           ...   \n",
              "4701212          0  ...                     0           금덕해운     33.420955   \n",
              "4701213          3  ...                     0            광삼교     33.472525   \n",
              "4701214          0  ...                     0          성산교차로     33.444121   \n",
              "4701215          0  ...                     0         관광대학입구     33.444996   \n",
              "4701216          0  ...                     0           시민공원     33.257130   \n",
              "\n",
              "         end_longitude end_turn_restricted  target  year  month  day  \\\n",
              "0           126.662335                   0    52.0  2022      6   23   \n",
              "1           126.526240                   0    30.0  2022      7   28   \n",
              "2           126.362147                   0    61.0  2021     10   10   \n",
              "3           126.566228                   0    20.0  2022      3   11   \n",
              "4           126.330152                   0    38.0  2021     10    5   \n",
              "...                ...                 ...     ...   ...    ...  ...   \n",
              "4701212     126.273750                   0    20.0  2021     11    4   \n",
              "4701213     126.424890                   0    65.0  2022      3   31   \n",
              "4701214     126.912948                   0    30.0  2022      6   13   \n",
              "4701215     126.433332                   0    73.0  2021     10   20   \n",
              "4701216     126.510364                   0    35.0  2021     10   19   \n",
              "\n",
              "         is_holiday  \n",
              "0               0.0  \n",
              "1               0.0  \n",
              "2               0.0  \n",
              "3               0.0  \n",
              "4               0.0  \n",
              "...             ...  \n",
              "4701212         0.0  \n",
              "4701213         0.0  \n",
              "4701214         0.0  \n",
              "4701215         0.0  \n",
              "4701216         0.0  \n",
              "\n",
              "[4701217 rows x 23 columns]"
            ],
            "text/html": [
              "\n",
              "  <div id=\"df-7ba5719f-7039-43c9-8f40-b00195f9969f\">\n",
              "    <div class=\"colab-df-container\">\n",
              "      <div>\n",
              "<style scoped>\n",
              "    .dataframe tbody tr th:only-of-type {\n",
              "        vertical-align: middle;\n",
              "    }\n",
              "\n",
              "    .dataframe tbody tr th {\n",
              "        vertical-align: top;\n",
              "    }\n",
              "\n",
              "    .dataframe thead th {\n",
              "        text-align: right;\n",
              "    }\n",
              "</style>\n",
              "<table border=\"1\" class=\"dataframe\">\n",
              "  <thead>\n",
              "    <tr style=\"text-align: right;\">\n",
              "      <th></th>\n",
              "      <th>day_of_week</th>\n",
              "      <th>base_hour</th>\n",
              "      <th>lane_count</th>\n",
              "      <th>road_rating</th>\n",
              "      <th>road_name</th>\n",
              "      <th>multi_linked</th>\n",
              "      <th>connect_code</th>\n",
              "      <th>maximum_speed_limit</th>\n",
              "      <th>weight_restricted</th>\n",
              "      <th>road_type</th>\n",
              "      <th>...</th>\n",
              "      <th>start_turn_restricted</th>\n",
              "      <th>end_node_name</th>\n",
              "      <th>end_latitude</th>\n",
              "      <th>end_longitude</th>\n",
              "      <th>end_turn_restricted</th>\n",
              "      <th>target</th>\n",
              "      <th>year</th>\n",
              "      <th>month</th>\n",
              "      <th>day</th>\n",
              "      <th>is_holiday</th>\n",
              "    </tr>\n",
              "  </thead>\n",
              "  <tbody>\n",
              "    <tr>\n",
              "      <th>0</th>\n",
              "      <td>목</td>\n",
              "      <td>17</td>\n",
              "      <td>1</td>\n",
              "      <td>106</td>\n",
              "      <td>지방도1112호선</td>\n",
              "      <td>0</td>\n",
              "      <td>0</td>\n",
              "      <td>60.0</td>\n",
              "      <td>32400.0</td>\n",
              "      <td>3</td>\n",
              "      <td>...</td>\n",
              "      <td>0</td>\n",
              "      <td>제3교래교</td>\n",
              "      <td>33.427749</td>\n",
              "      <td>126.662335</td>\n",
              "      <td>0</td>\n",
              "      <td>52.0</td>\n",
              "      <td>2022</td>\n",
              "      <td>6</td>\n",
              "      <td>23</td>\n",
              "      <td>0.0</td>\n",
              "    </tr>\n",
              "    <tr>\n",
              "      <th>1</th>\n",
              "      <td>목</td>\n",
              "      <td>21</td>\n",
              "      <td>2</td>\n",
              "      <td>103</td>\n",
              "      <td>일반국도11호선</td>\n",
              "      <td>0</td>\n",
              "      <td>0</td>\n",
              "      <td>60.0</td>\n",
              "      <td>0.0</td>\n",
              "      <td>0</td>\n",
              "      <td>...</td>\n",
              "      <td>1</td>\n",
              "      <td>KAL사거리</td>\n",
              "      <td>33.504811</td>\n",
              "      <td>126.526240</td>\n",
              "      <td>0</td>\n",
              "      <td>30.0</td>\n",
              "      <td>2022</td>\n",
              "      <td>7</td>\n",
              "      <td>28</td>\n",
              "      <td>0.0</td>\n",
              "    </tr>\n",
              "    <tr>\n",
              "      <th>2</th>\n",
              "      <td>일</td>\n",
              "      <td>7</td>\n",
              "      <td>2</td>\n",
              "      <td>103</td>\n",
              "      <td>일반국도16호선</td>\n",
              "      <td>0</td>\n",
              "      <td>0</td>\n",
              "      <td>80.0</td>\n",
              "      <td>0.0</td>\n",
              "      <td>0</td>\n",
              "      <td>...</td>\n",
              "      <td>0</td>\n",
              "      <td>상창육교</td>\n",
              "      <td>33.280072</td>\n",
              "      <td>126.362147</td>\n",
              "      <td>0</td>\n",
              "      <td>61.0</td>\n",
              "      <td>2021</td>\n",
              "      <td>10</td>\n",
              "      <td>10</td>\n",
              "      <td>0.0</td>\n",
              "    </tr>\n",
              "    <tr>\n",
              "      <th>3</th>\n",
              "      <td>금</td>\n",
              "      <td>13</td>\n",
              "      <td>2</td>\n",
              "      <td>107</td>\n",
              "      <td>태평로</td>\n",
              "      <td>0</td>\n",
              "      <td>0</td>\n",
              "      <td>50.0</td>\n",
              "      <td>0.0</td>\n",
              "      <td>0</td>\n",
              "      <td>...</td>\n",
              "      <td>0</td>\n",
              "      <td>서현주택</td>\n",
              "      <td>33.245565</td>\n",
              "      <td>126.566228</td>\n",
              "      <td>0</td>\n",
              "      <td>20.0</td>\n",
              "      <td>2022</td>\n",
              "      <td>3</td>\n",
              "      <td>11</td>\n",
              "      <td>0.0</td>\n",
              "    </tr>\n",
              "    <tr>\n",
              "      <th>4</th>\n",
              "      <td>화</td>\n",
              "      <td>8</td>\n",
              "      <td>2</td>\n",
              "      <td>103</td>\n",
              "      <td>일반국도12호선</td>\n",
              "      <td>0</td>\n",
              "      <td>0</td>\n",
              "      <td>80.0</td>\n",
              "      <td>0.0</td>\n",
              "      <td>0</td>\n",
              "      <td>...</td>\n",
              "      <td>0</td>\n",
              "      <td>애월입구</td>\n",
              "      <td>33.462677</td>\n",
              "      <td>126.330152</td>\n",
              "      <td>0</td>\n",
              "      <td>38.0</td>\n",
              "      <td>2021</td>\n",
              "      <td>10</td>\n",
              "      <td>5</td>\n",
              "      <td>0.0</td>\n",
              "    </tr>\n",
              "    <tr>\n",
              "      <th>...</th>\n",
              "      <td>...</td>\n",
              "      <td>...</td>\n",
              "      <td>...</td>\n",
              "      <td>...</td>\n",
              "      <td>...</td>\n",
              "      <td>...</td>\n",
              "      <td>...</td>\n",
              "      <td>...</td>\n",
              "      <td>...</td>\n",
              "      <td>...</td>\n",
              "      <td>...</td>\n",
              "      <td>...</td>\n",
              "      <td>...</td>\n",
              "      <td>...</td>\n",
              "      <td>...</td>\n",
              "      <td>...</td>\n",
              "      <td>...</td>\n",
              "      <td>...</td>\n",
              "      <td>...</td>\n",
              "      <td>...</td>\n",
              "      <td>...</td>\n",
              "    </tr>\n",
              "    <tr>\n",
              "      <th>4701212</th>\n",
              "      <td>목</td>\n",
              "      <td>16</td>\n",
              "      <td>1</td>\n",
              "      <td>107</td>\n",
              "      <td>-</td>\n",
              "      <td>0</td>\n",
              "      <td>0</td>\n",
              "      <td>50.0</td>\n",
              "      <td>0.0</td>\n",
              "      <td>0</td>\n",
              "      <td>...</td>\n",
              "      <td>0</td>\n",
              "      <td>금덕해운</td>\n",
              "      <td>33.420955</td>\n",
              "      <td>126.273750</td>\n",
              "      <td>0</td>\n",
              "      <td>20.0</td>\n",
              "      <td>2021</td>\n",
              "      <td>11</td>\n",
              "      <td>4</td>\n",
              "      <td>0.0</td>\n",
              "    </tr>\n",
              "    <tr>\n",
              "      <th>4701213</th>\n",
              "      <td>목</td>\n",
              "      <td>2</td>\n",
              "      <td>2</td>\n",
              "      <td>107</td>\n",
              "      <td>-</td>\n",
              "      <td>0</td>\n",
              "      <td>0</td>\n",
              "      <td>80.0</td>\n",
              "      <td>43200.0</td>\n",
              "      <td>3</td>\n",
              "      <td>...</td>\n",
              "      <td>0</td>\n",
              "      <td>광삼교</td>\n",
              "      <td>33.472525</td>\n",
              "      <td>126.424890</td>\n",
              "      <td>0</td>\n",
              "      <td>65.0</td>\n",
              "      <td>2022</td>\n",
              "      <td>3</td>\n",
              "      <td>31</td>\n",
              "      <td>0.0</td>\n",
              "    </tr>\n",
              "    <tr>\n",
              "      <th>4701214</th>\n",
              "      <td>월</td>\n",
              "      <td>22</td>\n",
              "      <td>2</td>\n",
              "      <td>103</td>\n",
              "      <td>일반국도12호선</td>\n",
              "      <td>0</td>\n",
              "      <td>0</td>\n",
              "      <td>60.0</td>\n",
              "      <td>0.0</td>\n",
              "      <td>0</td>\n",
              "      <td>...</td>\n",
              "      <td>0</td>\n",
              "      <td>성산교차로</td>\n",
              "      <td>33.444121</td>\n",
              "      <td>126.912948</td>\n",
              "      <td>0</td>\n",
              "      <td>30.0</td>\n",
              "      <td>2022</td>\n",
              "      <td>6</td>\n",
              "      <td>13</td>\n",
              "      <td>0.0</td>\n",
              "    </tr>\n",
              "    <tr>\n",
              "      <th>4701215</th>\n",
              "      <td>수</td>\n",
              "      <td>2</td>\n",
              "      <td>2</td>\n",
              "      <td>103</td>\n",
              "      <td>일반국도95호선</td>\n",
              "      <td>0</td>\n",
              "      <td>0</td>\n",
              "      <td>80.0</td>\n",
              "      <td>0.0</td>\n",
              "      <td>0</td>\n",
              "      <td>...</td>\n",
              "      <td>0</td>\n",
              "      <td>관광대학입구</td>\n",
              "      <td>33.444996</td>\n",
              "      <td>126.433332</td>\n",
              "      <td>0</td>\n",
              "      <td>73.0</td>\n",
              "      <td>2021</td>\n",
              "      <td>10</td>\n",
              "      <td>20</td>\n",
              "      <td>0.0</td>\n",
              "    </tr>\n",
              "    <tr>\n",
              "      <th>4701216</th>\n",
              "      <td>화</td>\n",
              "      <td>6</td>\n",
              "      <td>2</td>\n",
              "      <td>107</td>\n",
              "      <td>경찰로</td>\n",
              "      <td>0</td>\n",
              "      <td>0</td>\n",
              "      <td>60.0</td>\n",
              "      <td>0.0</td>\n",
              "      <td>0</td>\n",
              "      <td>...</td>\n",
              "      <td>0</td>\n",
              "      <td>시민공원</td>\n",
              "      <td>33.257130</td>\n",
              "      <td>126.510364</td>\n",
              "      <td>0</td>\n",
              "      <td>35.0</td>\n",
              "      <td>2021</td>\n",
              "      <td>10</td>\n",
              "      <td>19</td>\n",
              "      <td>0.0</td>\n",
              "    </tr>\n",
              "  </tbody>\n",
              "</table>\n",
              "<p>4701217 rows × 23 columns</p>\n",
              "</div>\n",
              "      <button class=\"colab-df-convert\" onclick=\"convertToInteractive('df-7ba5719f-7039-43c9-8f40-b00195f9969f')\"\n",
              "              title=\"Convert this dataframe to an interactive table.\"\n",
              "              style=\"display:none;\">\n",
              "        \n",
              "  <svg xmlns=\"http://www.w3.org/2000/svg\" height=\"24px\"viewBox=\"0 0 24 24\"\n",
              "       width=\"24px\">\n",
              "    <path d=\"M0 0h24v24H0V0z\" fill=\"none\"/>\n",
              "    <path d=\"M18.56 5.44l.94 2.06.94-2.06 2.06-.94-2.06-.94-.94-2.06-.94 2.06-2.06.94zm-11 1L8.5 8.5l.94-2.06 2.06-.94-2.06-.94L8.5 2.5l-.94 2.06-2.06.94zm10 10l.94 2.06.94-2.06 2.06-.94-2.06-.94-.94-2.06-.94 2.06-2.06.94z\"/><path d=\"M17.41 7.96l-1.37-1.37c-.4-.4-.92-.59-1.43-.59-.52 0-1.04.2-1.43.59L10.3 9.45l-7.72 7.72c-.78.78-.78 2.05 0 2.83L4 21.41c.39.39.9.59 1.41.59.51 0 1.02-.2 1.41-.59l7.78-7.78 2.81-2.81c.8-.78.8-2.07 0-2.86zM5.41 20L4 18.59l7.72-7.72 1.47 1.35L5.41 20z\"/>\n",
              "  </svg>\n",
              "      </button>\n",
              "      \n",
              "  <style>\n",
              "    .colab-df-container {\n",
              "      display:flex;\n",
              "      flex-wrap:wrap;\n",
              "      gap: 12px;\n",
              "    }\n",
              "\n",
              "    .colab-df-convert {\n",
              "      background-color: #E8F0FE;\n",
              "      border: none;\n",
              "      border-radius: 50%;\n",
              "      cursor: pointer;\n",
              "      display: none;\n",
              "      fill: #1967D2;\n",
              "      height: 32px;\n",
              "      padding: 0 0 0 0;\n",
              "      width: 32px;\n",
              "    }\n",
              "\n",
              "    .colab-df-convert:hover {\n",
              "      background-color: #E2EBFA;\n",
              "      box-shadow: 0px 1px 2px rgba(60, 64, 67, 0.3), 0px 1px 3px 1px rgba(60, 64, 67, 0.15);\n",
              "      fill: #174EA6;\n",
              "    }\n",
              "\n",
              "    [theme=dark] .colab-df-convert {\n",
              "      background-color: #3B4455;\n",
              "      fill: #D2E3FC;\n",
              "    }\n",
              "\n",
              "    [theme=dark] .colab-df-convert:hover {\n",
              "      background-color: #434B5C;\n",
              "      box-shadow: 0px 1px 3px 1px rgba(0, 0, 0, 0.15);\n",
              "      filter: drop-shadow(0px 1px 2px rgba(0, 0, 0, 0.3));\n",
              "      fill: #FFFFFF;\n",
              "    }\n",
              "  </style>\n",
              "\n",
              "      <script>\n",
              "        const buttonEl =\n",
              "          document.querySelector('#df-7ba5719f-7039-43c9-8f40-b00195f9969f button.colab-df-convert');\n",
              "        buttonEl.style.display =\n",
              "          google.colab.kernel.accessAllowed ? 'block' : 'none';\n",
              "\n",
              "        async function convertToInteractive(key) {\n",
              "          const element = document.querySelector('#df-7ba5719f-7039-43c9-8f40-b00195f9969f');\n",
              "          const dataTable =\n",
              "            await google.colab.kernel.invokeFunction('convertToInteractive',\n",
              "                                                     [key], {});\n",
              "          if (!dataTable) return;\n",
              "\n",
              "          const docLinkHtml = 'Like what you see? Visit the ' +\n",
              "            '<a target=\"_blank\" href=https://colab.research.google.com/notebooks/data_table.ipynb>data table notebook</a>'\n",
              "            + ' to learn more about interactive tables.';\n",
              "          element.innerHTML = '';\n",
              "          dataTable['output_type'] = 'display_data';\n",
              "          await google.colab.output.renderOutput(dataTable, element);\n",
              "          const docLink = document.createElement('div');\n",
              "          docLink.innerHTML = docLinkHtml;\n",
              "          element.appendChild(docLink);\n",
              "        }\n",
              "      </script>\n",
              "    </div>\n",
              "  </div>\n",
              "  "
            ]
          },
          "metadata": {},
          "execution_count": 18
        }
      ]
    },
    {
      "cell_type": "code",
      "source": [
        "# 주말 여부 - 다중공선성?\n",
        "def create_time_features(data):\n",
        "\n",
        "    tmp = data.copy()\n",
        "\n",
        "    tmp['weekend'] = tmp['day_of_week'].map({\"월\":0, \"화\":0, \"수\":0, \"목\":0, \"금\":0, \"토\":1, \"일\":1})\n",
        "\n",
        "    tmp['holiday'] = (tmp['weekend'] + tmp['is_holiday']).map({0:0, 1:1, 2:1})\n",
        "    tmp = tmp.drop(['weekend', 'is_holiday'], axis=1)\n",
        "\n",
        "    return tmp\n",
        "\n",
        "train_prep = create_time_features(train_prep)"
      ],
      "metadata": {
        "id": "Tw1xDwJVEk5P"
      },
      "execution_count": 19,
      "outputs": []
    },
    {
      "cell_type": "code",
      "source": [
        "# test data에 적용\n",
        "test_prep = test_prep.merge(holiday[['year', 'month', 'day','is_holiday']], how='left', on=['year', 'month','day'])\n",
        "test_prep['is_holiday']=test_prep['is_holiday'].fillna(0)"
      ],
      "metadata": {
        "id": "Et-10NyVHM0X"
      },
      "execution_count": 20,
      "outputs": []
    },
    {
      "cell_type": "code",
      "source": [
        "test_prep = create_time_features(test_prep)"
      ],
      "metadata": {
        "id": "aOevYPYUHVf7"
      },
      "execution_count": 21,
      "outputs": []
    },
    {
      "cell_type": "code",
      "source": [
        "# 관광객 입도 현황(외부 데이터 추가)\n",
        "tourist = pd.read_csv('drive/MyDrive/kubig_ML/kubig_ML_contest/tourist_int.csv')\n",
        "tourist"
      ],
      "metadata": {
        "colab": {
          "base_uri": "https://localhost:8080/",
          "height": 677
        },
        "id": "UNddcbFgF3DY",
        "outputId": "558b2151-ccd7-4af9-a1e9-497d4f9cf660"
      },
      "execution_count": 22,
      "outputs": [
        {
          "output_type": "execute_result",
          "data": {
            "text/plain": [
              "    year  month  tourist\n",
              "0   2021      1   468016\n",
              "1   2021      2   793768\n",
              "2   2021      3   893326\n",
              "3   2021      4  1082861\n",
              "4   2021      5  1136452\n",
              "5   2021      6  1138867\n",
              "6   2021      7  1131512\n",
              "7   2021      8   974194\n",
              "8   2021      9   872396\n",
              "9   2021     10  1222094\n",
              "10  2021     11  1204344\n",
              "11  2021     12  1090607\n",
              "12  2022      1  1170801\n",
              "13  2022      2  1029503\n",
              "14  2022      3   873086\n",
              "15  2022      4  1178456\n",
              "16  2022      5  1306537\n",
              "17  2022      6  1283470\n",
              "18  2022      7  1263332\n",
              "19  2022      8  1281608"
            ],
            "text/html": [
              "\n",
              "  <div id=\"df-ebbe00ed-3724-4cea-b3c8-1a94edebf5ea\">\n",
              "    <div class=\"colab-df-container\">\n",
              "      <div>\n",
              "<style scoped>\n",
              "    .dataframe tbody tr th:only-of-type {\n",
              "        vertical-align: middle;\n",
              "    }\n",
              "\n",
              "    .dataframe tbody tr th {\n",
              "        vertical-align: top;\n",
              "    }\n",
              "\n",
              "    .dataframe thead th {\n",
              "        text-align: right;\n",
              "    }\n",
              "</style>\n",
              "<table border=\"1\" class=\"dataframe\">\n",
              "  <thead>\n",
              "    <tr style=\"text-align: right;\">\n",
              "      <th></th>\n",
              "      <th>year</th>\n",
              "      <th>month</th>\n",
              "      <th>tourist</th>\n",
              "    </tr>\n",
              "  </thead>\n",
              "  <tbody>\n",
              "    <tr>\n",
              "      <th>0</th>\n",
              "      <td>2021</td>\n",
              "      <td>1</td>\n",
              "      <td>468016</td>\n",
              "    </tr>\n",
              "    <tr>\n",
              "      <th>1</th>\n",
              "      <td>2021</td>\n",
              "      <td>2</td>\n",
              "      <td>793768</td>\n",
              "    </tr>\n",
              "    <tr>\n",
              "      <th>2</th>\n",
              "      <td>2021</td>\n",
              "      <td>3</td>\n",
              "      <td>893326</td>\n",
              "    </tr>\n",
              "    <tr>\n",
              "      <th>3</th>\n",
              "      <td>2021</td>\n",
              "      <td>4</td>\n",
              "      <td>1082861</td>\n",
              "    </tr>\n",
              "    <tr>\n",
              "      <th>4</th>\n",
              "      <td>2021</td>\n",
              "      <td>5</td>\n",
              "      <td>1136452</td>\n",
              "    </tr>\n",
              "    <tr>\n",
              "      <th>5</th>\n",
              "      <td>2021</td>\n",
              "      <td>6</td>\n",
              "      <td>1138867</td>\n",
              "    </tr>\n",
              "    <tr>\n",
              "      <th>6</th>\n",
              "      <td>2021</td>\n",
              "      <td>7</td>\n",
              "      <td>1131512</td>\n",
              "    </tr>\n",
              "    <tr>\n",
              "      <th>7</th>\n",
              "      <td>2021</td>\n",
              "      <td>8</td>\n",
              "      <td>974194</td>\n",
              "    </tr>\n",
              "    <tr>\n",
              "      <th>8</th>\n",
              "      <td>2021</td>\n",
              "      <td>9</td>\n",
              "      <td>872396</td>\n",
              "    </tr>\n",
              "    <tr>\n",
              "      <th>9</th>\n",
              "      <td>2021</td>\n",
              "      <td>10</td>\n",
              "      <td>1222094</td>\n",
              "    </tr>\n",
              "    <tr>\n",
              "      <th>10</th>\n",
              "      <td>2021</td>\n",
              "      <td>11</td>\n",
              "      <td>1204344</td>\n",
              "    </tr>\n",
              "    <tr>\n",
              "      <th>11</th>\n",
              "      <td>2021</td>\n",
              "      <td>12</td>\n",
              "      <td>1090607</td>\n",
              "    </tr>\n",
              "    <tr>\n",
              "      <th>12</th>\n",
              "      <td>2022</td>\n",
              "      <td>1</td>\n",
              "      <td>1170801</td>\n",
              "    </tr>\n",
              "    <tr>\n",
              "      <th>13</th>\n",
              "      <td>2022</td>\n",
              "      <td>2</td>\n",
              "      <td>1029503</td>\n",
              "    </tr>\n",
              "    <tr>\n",
              "      <th>14</th>\n",
              "      <td>2022</td>\n",
              "      <td>3</td>\n",
              "      <td>873086</td>\n",
              "    </tr>\n",
              "    <tr>\n",
              "      <th>15</th>\n",
              "      <td>2022</td>\n",
              "      <td>4</td>\n",
              "      <td>1178456</td>\n",
              "    </tr>\n",
              "    <tr>\n",
              "      <th>16</th>\n",
              "      <td>2022</td>\n",
              "      <td>5</td>\n",
              "      <td>1306537</td>\n",
              "    </tr>\n",
              "    <tr>\n",
              "      <th>17</th>\n",
              "      <td>2022</td>\n",
              "      <td>6</td>\n",
              "      <td>1283470</td>\n",
              "    </tr>\n",
              "    <tr>\n",
              "      <th>18</th>\n",
              "      <td>2022</td>\n",
              "      <td>7</td>\n",
              "      <td>1263332</td>\n",
              "    </tr>\n",
              "    <tr>\n",
              "      <th>19</th>\n",
              "      <td>2022</td>\n",
              "      <td>8</td>\n",
              "      <td>1281608</td>\n",
              "    </tr>\n",
              "  </tbody>\n",
              "</table>\n",
              "</div>\n",
              "      <button class=\"colab-df-convert\" onclick=\"convertToInteractive('df-ebbe00ed-3724-4cea-b3c8-1a94edebf5ea')\"\n",
              "              title=\"Convert this dataframe to an interactive table.\"\n",
              "              style=\"display:none;\">\n",
              "        \n",
              "  <svg xmlns=\"http://www.w3.org/2000/svg\" height=\"24px\"viewBox=\"0 0 24 24\"\n",
              "       width=\"24px\">\n",
              "    <path d=\"M0 0h24v24H0V0z\" fill=\"none\"/>\n",
              "    <path d=\"M18.56 5.44l.94 2.06.94-2.06 2.06-.94-2.06-.94-.94-2.06-.94 2.06-2.06.94zm-11 1L8.5 8.5l.94-2.06 2.06-.94-2.06-.94L8.5 2.5l-.94 2.06-2.06.94zm10 10l.94 2.06.94-2.06 2.06-.94-2.06-.94-.94-2.06-.94 2.06-2.06.94z\"/><path d=\"M17.41 7.96l-1.37-1.37c-.4-.4-.92-.59-1.43-.59-.52 0-1.04.2-1.43.59L10.3 9.45l-7.72 7.72c-.78.78-.78 2.05 0 2.83L4 21.41c.39.39.9.59 1.41.59.51 0 1.02-.2 1.41-.59l7.78-7.78 2.81-2.81c.8-.78.8-2.07 0-2.86zM5.41 20L4 18.59l7.72-7.72 1.47 1.35L5.41 20z\"/>\n",
              "  </svg>\n",
              "      </button>\n",
              "      \n",
              "  <style>\n",
              "    .colab-df-container {\n",
              "      display:flex;\n",
              "      flex-wrap:wrap;\n",
              "      gap: 12px;\n",
              "    }\n",
              "\n",
              "    .colab-df-convert {\n",
              "      background-color: #E8F0FE;\n",
              "      border: none;\n",
              "      border-radius: 50%;\n",
              "      cursor: pointer;\n",
              "      display: none;\n",
              "      fill: #1967D2;\n",
              "      height: 32px;\n",
              "      padding: 0 0 0 0;\n",
              "      width: 32px;\n",
              "    }\n",
              "\n",
              "    .colab-df-convert:hover {\n",
              "      background-color: #E2EBFA;\n",
              "      box-shadow: 0px 1px 2px rgba(60, 64, 67, 0.3), 0px 1px 3px 1px rgba(60, 64, 67, 0.15);\n",
              "      fill: #174EA6;\n",
              "    }\n",
              "\n",
              "    [theme=dark] .colab-df-convert {\n",
              "      background-color: #3B4455;\n",
              "      fill: #D2E3FC;\n",
              "    }\n",
              "\n",
              "    [theme=dark] .colab-df-convert:hover {\n",
              "      background-color: #434B5C;\n",
              "      box-shadow: 0px 1px 3px 1px rgba(0, 0, 0, 0.15);\n",
              "      filter: drop-shadow(0px 1px 2px rgba(0, 0, 0, 0.3));\n",
              "      fill: #FFFFFF;\n",
              "    }\n",
              "  </style>\n",
              "\n",
              "      <script>\n",
              "        const buttonEl =\n",
              "          document.querySelector('#df-ebbe00ed-3724-4cea-b3c8-1a94edebf5ea button.colab-df-convert');\n",
              "        buttonEl.style.display =\n",
              "          google.colab.kernel.accessAllowed ? 'block' : 'none';\n",
              "\n",
              "        async function convertToInteractive(key) {\n",
              "          const element = document.querySelector('#df-ebbe00ed-3724-4cea-b3c8-1a94edebf5ea');\n",
              "          const dataTable =\n",
              "            await google.colab.kernel.invokeFunction('convertToInteractive',\n",
              "                                                     [key], {});\n",
              "          if (!dataTable) return;\n",
              "\n",
              "          const docLinkHtml = 'Like what you see? Visit the ' +\n",
              "            '<a target=\"_blank\" href=https://colab.research.google.com/notebooks/data_table.ipynb>data table notebook</a>'\n",
              "            + ' to learn more about interactive tables.';\n",
              "          element.innerHTML = '';\n",
              "          dataTable['output_type'] = 'display_data';\n",
              "          await google.colab.output.renderOutput(dataTable, element);\n",
              "          const docLink = document.createElement('div');\n",
              "          docLink.innerHTML = docLinkHtml;\n",
              "          element.appendChild(docLink);\n",
              "        }\n",
              "      </script>\n",
              "    </div>\n",
              "  </div>\n",
              "  "
            ]
          },
          "metadata": {},
          "execution_count": 22
        }
      ]
    },
    {
      "cell_type": "code",
      "source": [
        "# 위 tourist df를 train df와 합쳐줌\n",
        "train_prep = train_prep.merge(tourist[['year', 'month', 'tourist']], how='left', on=['year', 'month'])\n",
        "train_prep"
      ],
      "metadata": {
        "colab": {
          "base_uri": "https://localhost:8080/",
          "height": 592
        },
        "id": "mUW-aqjCGHr9",
        "outputId": "b727da11-bb29-4c99-ae54-bdbe3646a382"
      },
      "execution_count": 23,
      "outputs": [
        {
          "output_type": "execute_result",
          "data": {
            "text/plain": [
              "        day_of_week  base_hour  lane_count  road_rating  road_name  \\\n",
              "0                 목         17           1          106  지방도1112호선   \n",
              "1                 목         21           2          103   일반국도11호선   \n",
              "2                 일          7           2          103   일반국도16호선   \n",
              "3                 금         13           2          107        태평로   \n",
              "4                 화          8           2          103   일반국도12호선   \n",
              "...             ...        ...         ...          ...        ...   \n",
              "4701212           목         16           1          107          -   \n",
              "4701213           목          2           2          107          -   \n",
              "4701214           월         22           2          103   일반국도12호선   \n",
              "4701215           수          2           2          103   일반국도95호선   \n",
              "4701216           화          6           2          107        경찰로   \n",
              "\n",
              "         multi_linked  connect_code  maximum_speed_limit  weight_restricted  \\\n",
              "0                   0             0                 60.0            32400.0   \n",
              "1                   0             0                 60.0                0.0   \n",
              "2                   0             0                 80.0                0.0   \n",
              "3                   0             0                 50.0                0.0   \n",
              "4                   0             0                 80.0                0.0   \n",
              "...               ...           ...                  ...                ...   \n",
              "4701212             0             0                 50.0                0.0   \n",
              "4701213             0             0                 80.0            43200.0   \n",
              "4701214             0             0                 60.0                0.0   \n",
              "4701215             0             0                 80.0                0.0   \n",
              "4701216             0             0                 60.0                0.0   \n",
              "\n",
              "         road_type  ... end_node_name  end_latitude  end_longitude  \\\n",
              "0                3  ...         제3교래교     33.427749     126.662335   \n",
              "1                0  ...        KAL사거리     33.504811     126.526240   \n",
              "2                0  ...          상창육교     33.280072     126.362147   \n",
              "3                0  ...          서현주택     33.245565     126.566228   \n",
              "4                0  ...          애월입구     33.462677     126.330152   \n",
              "...            ...  ...           ...           ...            ...   \n",
              "4701212          0  ...          금덕해운     33.420955     126.273750   \n",
              "4701213          3  ...           광삼교     33.472525     126.424890   \n",
              "4701214          0  ...         성산교차로     33.444121     126.912948   \n",
              "4701215          0  ...        관광대학입구     33.444996     126.433332   \n",
              "4701216          0  ...          시민공원     33.257130     126.510364   \n",
              "\n",
              "         end_turn_restricted target  year  month  day  holiday  tourist  \n",
              "0                          0   52.0  2022      6   23        0  1283470  \n",
              "1                          0   30.0  2022      7   28        0  1263332  \n",
              "2                          0   61.0  2021     10   10        1  1222094  \n",
              "3                          0   20.0  2022      3   11        0   873086  \n",
              "4                          0   38.0  2021     10    5        0  1222094  \n",
              "...                      ...    ...   ...    ...  ...      ...      ...  \n",
              "4701212                    0   20.0  2021     11    4        0  1204344  \n",
              "4701213                    0   65.0  2022      3   31        0   873086  \n",
              "4701214                    0   30.0  2022      6   13        0  1283470  \n",
              "4701215                    0   73.0  2021     10   20        0  1222094  \n",
              "4701216                    0   35.0  2021     10   19        0  1222094  \n",
              "\n",
              "[4701217 rows x 24 columns]"
            ],
            "text/html": [
              "\n",
              "  <div id=\"df-e0d832fa-a67b-43ab-89cd-13e1496a7610\">\n",
              "    <div class=\"colab-df-container\">\n",
              "      <div>\n",
              "<style scoped>\n",
              "    .dataframe tbody tr th:only-of-type {\n",
              "        vertical-align: middle;\n",
              "    }\n",
              "\n",
              "    .dataframe tbody tr th {\n",
              "        vertical-align: top;\n",
              "    }\n",
              "\n",
              "    .dataframe thead th {\n",
              "        text-align: right;\n",
              "    }\n",
              "</style>\n",
              "<table border=\"1\" class=\"dataframe\">\n",
              "  <thead>\n",
              "    <tr style=\"text-align: right;\">\n",
              "      <th></th>\n",
              "      <th>day_of_week</th>\n",
              "      <th>base_hour</th>\n",
              "      <th>lane_count</th>\n",
              "      <th>road_rating</th>\n",
              "      <th>road_name</th>\n",
              "      <th>multi_linked</th>\n",
              "      <th>connect_code</th>\n",
              "      <th>maximum_speed_limit</th>\n",
              "      <th>weight_restricted</th>\n",
              "      <th>road_type</th>\n",
              "      <th>...</th>\n",
              "      <th>end_node_name</th>\n",
              "      <th>end_latitude</th>\n",
              "      <th>end_longitude</th>\n",
              "      <th>end_turn_restricted</th>\n",
              "      <th>target</th>\n",
              "      <th>year</th>\n",
              "      <th>month</th>\n",
              "      <th>day</th>\n",
              "      <th>holiday</th>\n",
              "      <th>tourist</th>\n",
              "    </tr>\n",
              "  </thead>\n",
              "  <tbody>\n",
              "    <tr>\n",
              "      <th>0</th>\n",
              "      <td>목</td>\n",
              "      <td>17</td>\n",
              "      <td>1</td>\n",
              "      <td>106</td>\n",
              "      <td>지방도1112호선</td>\n",
              "      <td>0</td>\n",
              "      <td>0</td>\n",
              "      <td>60.0</td>\n",
              "      <td>32400.0</td>\n",
              "      <td>3</td>\n",
              "      <td>...</td>\n",
              "      <td>제3교래교</td>\n",
              "      <td>33.427749</td>\n",
              "      <td>126.662335</td>\n",
              "      <td>0</td>\n",
              "      <td>52.0</td>\n",
              "      <td>2022</td>\n",
              "      <td>6</td>\n",
              "      <td>23</td>\n",
              "      <td>0</td>\n",
              "      <td>1283470</td>\n",
              "    </tr>\n",
              "    <tr>\n",
              "      <th>1</th>\n",
              "      <td>목</td>\n",
              "      <td>21</td>\n",
              "      <td>2</td>\n",
              "      <td>103</td>\n",
              "      <td>일반국도11호선</td>\n",
              "      <td>0</td>\n",
              "      <td>0</td>\n",
              "      <td>60.0</td>\n",
              "      <td>0.0</td>\n",
              "      <td>0</td>\n",
              "      <td>...</td>\n",
              "      <td>KAL사거리</td>\n",
              "      <td>33.504811</td>\n",
              "      <td>126.526240</td>\n",
              "      <td>0</td>\n",
              "      <td>30.0</td>\n",
              "      <td>2022</td>\n",
              "      <td>7</td>\n",
              "      <td>28</td>\n",
              "      <td>0</td>\n",
              "      <td>1263332</td>\n",
              "    </tr>\n",
              "    <tr>\n",
              "      <th>2</th>\n",
              "      <td>일</td>\n",
              "      <td>7</td>\n",
              "      <td>2</td>\n",
              "      <td>103</td>\n",
              "      <td>일반국도16호선</td>\n",
              "      <td>0</td>\n",
              "      <td>0</td>\n",
              "      <td>80.0</td>\n",
              "      <td>0.0</td>\n",
              "      <td>0</td>\n",
              "      <td>...</td>\n",
              "      <td>상창육교</td>\n",
              "      <td>33.280072</td>\n",
              "      <td>126.362147</td>\n",
              "      <td>0</td>\n",
              "      <td>61.0</td>\n",
              "      <td>2021</td>\n",
              "      <td>10</td>\n",
              "      <td>10</td>\n",
              "      <td>1</td>\n",
              "      <td>1222094</td>\n",
              "    </tr>\n",
              "    <tr>\n",
              "      <th>3</th>\n",
              "      <td>금</td>\n",
              "      <td>13</td>\n",
              "      <td>2</td>\n",
              "      <td>107</td>\n",
              "      <td>태평로</td>\n",
              "      <td>0</td>\n",
              "      <td>0</td>\n",
              "      <td>50.0</td>\n",
              "      <td>0.0</td>\n",
              "      <td>0</td>\n",
              "      <td>...</td>\n",
              "      <td>서현주택</td>\n",
              "      <td>33.245565</td>\n",
              "      <td>126.566228</td>\n",
              "      <td>0</td>\n",
              "      <td>20.0</td>\n",
              "      <td>2022</td>\n",
              "      <td>3</td>\n",
              "      <td>11</td>\n",
              "      <td>0</td>\n",
              "      <td>873086</td>\n",
              "    </tr>\n",
              "    <tr>\n",
              "      <th>4</th>\n",
              "      <td>화</td>\n",
              "      <td>8</td>\n",
              "      <td>2</td>\n",
              "      <td>103</td>\n",
              "      <td>일반국도12호선</td>\n",
              "      <td>0</td>\n",
              "      <td>0</td>\n",
              "      <td>80.0</td>\n",
              "      <td>0.0</td>\n",
              "      <td>0</td>\n",
              "      <td>...</td>\n",
              "      <td>애월입구</td>\n",
              "      <td>33.462677</td>\n",
              "      <td>126.330152</td>\n",
              "      <td>0</td>\n",
              "      <td>38.0</td>\n",
              "      <td>2021</td>\n",
              "      <td>10</td>\n",
              "      <td>5</td>\n",
              "      <td>0</td>\n",
              "      <td>1222094</td>\n",
              "    </tr>\n",
              "    <tr>\n",
              "      <th>...</th>\n",
              "      <td>...</td>\n",
              "      <td>...</td>\n",
              "      <td>...</td>\n",
              "      <td>...</td>\n",
              "      <td>...</td>\n",
              "      <td>...</td>\n",
              "      <td>...</td>\n",
              "      <td>...</td>\n",
              "      <td>...</td>\n",
              "      <td>...</td>\n",
              "      <td>...</td>\n",
              "      <td>...</td>\n",
              "      <td>...</td>\n",
              "      <td>...</td>\n",
              "      <td>...</td>\n",
              "      <td>...</td>\n",
              "      <td>...</td>\n",
              "      <td>...</td>\n",
              "      <td>...</td>\n",
              "      <td>...</td>\n",
              "      <td>...</td>\n",
              "    </tr>\n",
              "    <tr>\n",
              "      <th>4701212</th>\n",
              "      <td>목</td>\n",
              "      <td>16</td>\n",
              "      <td>1</td>\n",
              "      <td>107</td>\n",
              "      <td>-</td>\n",
              "      <td>0</td>\n",
              "      <td>0</td>\n",
              "      <td>50.0</td>\n",
              "      <td>0.0</td>\n",
              "      <td>0</td>\n",
              "      <td>...</td>\n",
              "      <td>금덕해운</td>\n",
              "      <td>33.420955</td>\n",
              "      <td>126.273750</td>\n",
              "      <td>0</td>\n",
              "      <td>20.0</td>\n",
              "      <td>2021</td>\n",
              "      <td>11</td>\n",
              "      <td>4</td>\n",
              "      <td>0</td>\n",
              "      <td>1204344</td>\n",
              "    </tr>\n",
              "    <tr>\n",
              "      <th>4701213</th>\n",
              "      <td>목</td>\n",
              "      <td>2</td>\n",
              "      <td>2</td>\n",
              "      <td>107</td>\n",
              "      <td>-</td>\n",
              "      <td>0</td>\n",
              "      <td>0</td>\n",
              "      <td>80.0</td>\n",
              "      <td>43200.0</td>\n",
              "      <td>3</td>\n",
              "      <td>...</td>\n",
              "      <td>광삼교</td>\n",
              "      <td>33.472525</td>\n",
              "      <td>126.424890</td>\n",
              "      <td>0</td>\n",
              "      <td>65.0</td>\n",
              "      <td>2022</td>\n",
              "      <td>3</td>\n",
              "      <td>31</td>\n",
              "      <td>0</td>\n",
              "      <td>873086</td>\n",
              "    </tr>\n",
              "    <tr>\n",
              "      <th>4701214</th>\n",
              "      <td>월</td>\n",
              "      <td>22</td>\n",
              "      <td>2</td>\n",
              "      <td>103</td>\n",
              "      <td>일반국도12호선</td>\n",
              "      <td>0</td>\n",
              "      <td>0</td>\n",
              "      <td>60.0</td>\n",
              "      <td>0.0</td>\n",
              "      <td>0</td>\n",
              "      <td>...</td>\n",
              "      <td>성산교차로</td>\n",
              "      <td>33.444121</td>\n",
              "      <td>126.912948</td>\n",
              "      <td>0</td>\n",
              "      <td>30.0</td>\n",
              "      <td>2022</td>\n",
              "      <td>6</td>\n",
              "      <td>13</td>\n",
              "      <td>0</td>\n",
              "      <td>1283470</td>\n",
              "    </tr>\n",
              "    <tr>\n",
              "      <th>4701215</th>\n",
              "      <td>수</td>\n",
              "      <td>2</td>\n",
              "      <td>2</td>\n",
              "      <td>103</td>\n",
              "      <td>일반국도95호선</td>\n",
              "      <td>0</td>\n",
              "      <td>0</td>\n",
              "      <td>80.0</td>\n",
              "      <td>0.0</td>\n",
              "      <td>0</td>\n",
              "      <td>...</td>\n",
              "      <td>관광대학입구</td>\n",
              "      <td>33.444996</td>\n",
              "      <td>126.433332</td>\n",
              "      <td>0</td>\n",
              "      <td>73.0</td>\n",
              "      <td>2021</td>\n",
              "      <td>10</td>\n",
              "      <td>20</td>\n",
              "      <td>0</td>\n",
              "      <td>1222094</td>\n",
              "    </tr>\n",
              "    <tr>\n",
              "      <th>4701216</th>\n",
              "      <td>화</td>\n",
              "      <td>6</td>\n",
              "      <td>2</td>\n",
              "      <td>107</td>\n",
              "      <td>경찰로</td>\n",
              "      <td>0</td>\n",
              "      <td>0</td>\n",
              "      <td>60.0</td>\n",
              "      <td>0.0</td>\n",
              "      <td>0</td>\n",
              "      <td>...</td>\n",
              "      <td>시민공원</td>\n",
              "      <td>33.257130</td>\n",
              "      <td>126.510364</td>\n",
              "      <td>0</td>\n",
              "      <td>35.0</td>\n",
              "      <td>2021</td>\n",
              "      <td>10</td>\n",
              "      <td>19</td>\n",
              "      <td>0</td>\n",
              "      <td>1222094</td>\n",
              "    </tr>\n",
              "  </tbody>\n",
              "</table>\n",
              "<p>4701217 rows × 24 columns</p>\n",
              "</div>\n",
              "      <button class=\"colab-df-convert\" onclick=\"convertToInteractive('df-e0d832fa-a67b-43ab-89cd-13e1496a7610')\"\n",
              "              title=\"Convert this dataframe to an interactive table.\"\n",
              "              style=\"display:none;\">\n",
              "        \n",
              "  <svg xmlns=\"http://www.w3.org/2000/svg\" height=\"24px\"viewBox=\"0 0 24 24\"\n",
              "       width=\"24px\">\n",
              "    <path d=\"M0 0h24v24H0V0z\" fill=\"none\"/>\n",
              "    <path d=\"M18.56 5.44l.94 2.06.94-2.06 2.06-.94-2.06-.94-.94-2.06-.94 2.06-2.06.94zm-11 1L8.5 8.5l.94-2.06 2.06-.94-2.06-.94L8.5 2.5l-.94 2.06-2.06.94zm10 10l.94 2.06.94-2.06 2.06-.94-2.06-.94-.94-2.06-.94 2.06-2.06.94z\"/><path d=\"M17.41 7.96l-1.37-1.37c-.4-.4-.92-.59-1.43-.59-.52 0-1.04.2-1.43.59L10.3 9.45l-7.72 7.72c-.78.78-.78 2.05 0 2.83L4 21.41c.39.39.9.59 1.41.59.51 0 1.02-.2 1.41-.59l7.78-7.78 2.81-2.81c.8-.78.8-2.07 0-2.86zM5.41 20L4 18.59l7.72-7.72 1.47 1.35L5.41 20z\"/>\n",
              "  </svg>\n",
              "      </button>\n",
              "      \n",
              "  <style>\n",
              "    .colab-df-container {\n",
              "      display:flex;\n",
              "      flex-wrap:wrap;\n",
              "      gap: 12px;\n",
              "    }\n",
              "\n",
              "    .colab-df-convert {\n",
              "      background-color: #E8F0FE;\n",
              "      border: none;\n",
              "      border-radius: 50%;\n",
              "      cursor: pointer;\n",
              "      display: none;\n",
              "      fill: #1967D2;\n",
              "      height: 32px;\n",
              "      padding: 0 0 0 0;\n",
              "      width: 32px;\n",
              "    }\n",
              "\n",
              "    .colab-df-convert:hover {\n",
              "      background-color: #E2EBFA;\n",
              "      box-shadow: 0px 1px 2px rgba(60, 64, 67, 0.3), 0px 1px 3px 1px rgba(60, 64, 67, 0.15);\n",
              "      fill: #174EA6;\n",
              "    }\n",
              "\n",
              "    [theme=dark] .colab-df-convert {\n",
              "      background-color: #3B4455;\n",
              "      fill: #D2E3FC;\n",
              "    }\n",
              "\n",
              "    [theme=dark] .colab-df-convert:hover {\n",
              "      background-color: #434B5C;\n",
              "      box-shadow: 0px 1px 3px 1px rgba(0, 0, 0, 0.15);\n",
              "      filter: drop-shadow(0px 1px 2px rgba(0, 0, 0, 0.3));\n",
              "      fill: #FFFFFF;\n",
              "    }\n",
              "  </style>\n",
              "\n",
              "      <script>\n",
              "        const buttonEl =\n",
              "          document.querySelector('#df-e0d832fa-a67b-43ab-89cd-13e1496a7610 button.colab-df-convert');\n",
              "        buttonEl.style.display =\n",
              "          google.colab.kernel.accessAllowed ? 'block' : 'none';\n",
              "\n",
              "        async function convertToInteractive(key) {\n",
              "          const element = document.querySelector('#df-e0d832fa-a67b-43ab-89cd-13e1496a7610');\n",
              "          const dataTable =\n",
              "            await google.colab.kernel.invokeFunction('convertToInteractive',\n",
              "                                                     [key], {});\n",
              "          if (!dataTable) return;\n",
              "\n",
              "          const docLinkHtml = 'Like what you see? Visit the ' +\n",
              "            '<a target=\"_blank\" href=https://colab.research.google.com/notebooks/data_table.ipynb>data table notebook</a>'\n",
              "            + ' to learn more about interactive tables.';\n",
              "          element.innerHTML = '';\n",
              "          dataTable['output_type'] = 'display_data';\n",
              "          await google.colab.output.renderOutput(dataTable, element);\n",
              "          const docLink = document.createElement('div');\n",
              "          docLink.innerHTML = docLinkHtml;\n",
              "          element.appendChild(docLink);\n",
              "        }\n",
              "      </script>\n",
              "    </div>\n",
              "  </div>\n",
              "  "
            ]
          },
          "metadata": {},
          "execution_count": 23
        }
      ]
    },
    {
      "cell_type": "code",
      "source": [
        "# test data는 모두 2022년 8월이므로 1,281,608로 채워줌\n",
        "test_prep['tourist']=1281608"
      ],
      "metadata": {
        "id": "N1O2RaPMG0Kl"
      },
      "execution_count": 24,
      "outputs": []
    },
    {
      "cell_type": "code",
      "source": [
        "train_prep=train_prep.drop(columns='day')\n",
        "test_prep=test_prep.drop(columns='day')"
      ],
      "metadata": {
        "id": "Kgu-8l_ncd4L"
      },
      "execution_count": 25,
      "outputs": []
    },
    {
      "cell_type": "markdown",
      "source": [
        "\n",
        "## 'road_name' ,'start_node', 'end_node' : label encoding"
      ],
      "metadata": {
        "id": "2zM7yH9YIFJN"
      }
    },
    {
      "cell_type": "code",
      "source": [
        "import seaborn as sns\n",
        "import matplotlib.pyplot as plt\n",
        "\n",
        "#fig, axis = plt.subplots(1, figsize=(15,30))\n",
        "#sns.lineplot(x='year',y='target',hue='road_name',data=train_prep,legend=False).set(title='year vs target')"
      ],
      "metadata": {
        "id": "yUwU36J_IJvY"
      },
      "execution_count": 26,
      "outputs": []
    },
    {
      "cell_type": "code",
      "source": [
        "from sklearn.preprocessing import LabelEncoder\n",
        "\n",
        "items =  ['road_name', 'start_node_name','end_node_name']\n",
        "encoder = LabelEncoder()\n",
        "\n",
        "for i in items:\n",
        "    encoder.fit(train_prep[i])\n",
        "    train_prep[i] = encoder.transform(train_prep[i])\n",
        "    test_prep[i]=encoder.transform(test_prep[i])\n"
      ],
      "metadata": {
        "id": "o3xCRDwnIpxH"
      },
      "execution_count": 27,
      "outputs": []
    },
    {
      "cell_type": "markdown",
      "source": [
        "## 'day_of_week' : 0,1,2,3,4,5,6 으로 encoding"
      ],
      "metadata": {
        "id": "8hoTwyhzKPCd"
      }
    },
    {
      "cell_type": "code",
      "source": [
        "train_prep['day_of_week']=train_prep['day_of_week'].map({\"수\":0,\"목\":1,\"금\":2,\"토\":3,\"일\":4,\"월\":5,\"화\":6})\n",
        "test_prep['day_of_week']=test_prep['day_of_week'].map({\"수\":0,\"목\":1,\"금\":2,\"토\":3,\"일\":4,\"월\":5,\"화\":6})"
      ],
      "metadata": {
        "id": "hgC8vj2nIwNX"
      },
      "execution_count": 28,
      "outputs": []
    },
    {
      "cell_type": "markdown",
      "source": [],
      "metadata": {
        "id": "SHMn-cAcHl93"
      }
    },
    {
      "cell_type": "markdown",
      "source": [
        "## 'start_longitude', 'start_latitude', 'end_longitude', 'end_latitude' :\n",
        "좌표축 이동 후 16개로 구간 나눔 -> district_start , district_end 파생변수"
      ],
      "metadata": {
        "id": "IX0GlmQcaVEd"
      }
    },
    {
      "cell_type": "code",
      "source": [
        "train_prep['end_longitude']=train['end_longitude'].copy()\n",
        "train_prep['end_latitude']=train['end_latitude'].copy()"
      ],
      "metadata": {
        "id": "15HHiwyS8jfe"
      },
      "execution_count": 29,
      "outputs": []
    },
    {
      "cell_type": "code",
      "source": [
        "end_long_min=min(train_prep['end_longitude'])\n",
        "end_lat_min=min(train_prep['end_latitude'])"
      ],
      "metadata": {
        "id": "Lx6ULt9i86Po"
      },
      "execution_count": 30,
      "outputs": []
    },
    {
      "cell_type": "code",
      "source": [
        "train_prep['end_longitude']=train_prep['end_longitude']-end_long_min\n",
        "train_prep['end_latitude']=train_prep['end_latitude']-end_lat_min"
      ],
      "metadata": {
        "id": "iXVKqGybd1dZ"
      },
      "execution_count": 31,
      "outputs": []
    },
    {
      "cell_type": "code",
      "source": [
        "import math\n",
        "degree=-15\n",
        "rad = degree * (math.pi / 180.0)\n",
        "train_prep['end_longitude'] = math.cos(rad)*train_prep['end_longitude'] - math.sin(rad)*train_prep['end_latitude']\n",
        "train_prep['end_latitude'] = math.sin(rad)*train_prep['end_longitude'] + math.cos(rad)*train_prep['end_latitude']"
      ],
      "metadata": {
        "id": "97j3l6C3ZpGb"
      },
      "execution_count": 32,
      "outputs": []
    },
    {
      "cell_type": "code",
      "source": [
        "train_prep['end_longitude']=train_prep['end_longitude']+end_long_min\n",
        "train_prep['end_latitude']=train_prep['end_latitude']+end_lat_min"
      ],
      "metadata": {
        "id": "PHygmP4L8eHa"
      },
      "execution_count": 33,
      "outputs": []
    },
    {
      "cell_type": "code",
      "source": [
        "# 해안도로 여부  > 논의 필요\n",
        "# plot_dims=(12,8)\n",
        "# plt.figure(figsize=plot_dims)\n",
        "# sns.scatterplot(train_prep.end_longitude, train_prep.end_latitude, hue=train_prep.target)\n",
        "# plt.ioff()"
      ],
      "metadata": {
        "colab": {
          "base_uri": "https://localhost:8080/",
          "height": 555
        },
        "id": "3NzuYxqIZoVW",
        "outputId": "0e5acb00-a2d7-4267-8046-83077a76ea2d"
      },
      "execution_count": 34,
      "outputs": [
        {
          "output_type": "stream",
          "name": "stderr",
          "text": [
            "/usr/local/lib/python3.8/dist-packages/seaborn/_decorators.py:36: FutureWarning: Pass the following variables as keyword args: x, y. From version 0.12, the only valid positional argument will be `data`, and passing other arguments without an explicit keyword will result in an error or misinterpretation.\n",
            "  warnings.warn(\n"
          ]
        },
        {
          "output_type": "display_data",
          "data": {
            "text/plain": [
              "<Figure size 864x576 with 1 Axes>"
            ],
            "image/png": "[encoded data removed]"
          },
          "metadata": {
            "needs_background": "light"
          }
        }
      ]
    },
    {
      "cell_type": "code",
      "source": [
        "x_q1=train_prep['end_longitude'].quantile(.25)\n",
        "x_q2=train_prep['end_longitude'].quantile(.5)\n",
        "x_q3=train_prep['end_longitude'].quantile(.75)\n",
        "\n",
        "y_q1=train_prep['end_latitude'].quantile(.25)\n",
        "y_q2=train_prep['end_latitude'].quantile(.5)\n",
        "y_q3=train_prep['end_latitude'].quantile(.75)"
      ],
      "metadata": {
        "id": "MMijsvFWC1-r"
      },
      "execution_count": 35,
      "outputs": []
    },
    {
      "cell_type": "code",
      "source": [
        "print(x_q1,x_q2,x_q3)\n",
        "print(y_q1,y_q2,y_q3)"
      ],
      "metadata": {
        "colab": {
          "base_uri": "https://localhost:8080/"
        },
        "id": "JMmkj8ZPMIzk",
        "outputId": "465d0359-7d64-459f-e389-e5bbe434a870"
      },
      "execution_count": 36,
      "outputs": [
        {
          "output_type": "stream",
          "name": "stdout",
          "text": [
            "126.44881195950214 126.53478928087299 126.62267380596973\n",
            "33.187185069472555 33.29500177064386 33.37977904156573\n"
          ]
        }
      ]
    },
    {
      "cell_type": "code",
      "source": [
        "def district(x,y):\n",
        "  if(x<x_q1):\n",
        "    if(y<y_q1): return 1\n",
        "    if((y>=y_q1) & (y<y_q2)): return 2\n",
        "    if((y>=y_q2)&(y<y_q3)): return 3\n",
        "    if(y>=y_q3): return 4\n",
        "\n",
        "  elif((x>=x_q1) & (x<x_q2)):\n",
        "    if(y<y_q1): return 5\n",
        "    if((y>=y_q1) & (y<y_q2)): return 6\n",
        "    if((y>=y_q2)&(y<y_q3)): return 7\n",
        "    if(y>=y_q3): return 8\n",
        "\n",
        "  elif((x>=x_q2) & (x<x_q3)):\n",
        "    if(y<y_q1): return 9\n",
        "    if((y>=y_q1) & (y<y_q2)): return 10\n",
        "    if((y>=y_q2)&(y<y_q3)): return 11\n",
        "    if(y>=y_q3): return 12\n",
        "\n",
        "  else:\n",
        "    if(y<y_q1): return 13\n",
        "    if((y>=y_q1) & (y<y_q2)): return 14\n",
        "    if((y>=y_q2)&(y<y_q3)): return 15\n",
        "    if(y>=y_q3): return 16"
      ],
      "metadata": {
        "id": "nkq0uoAOWQdt"
      },
      "execution_count": 37,
      "outputs": []
    },
    {
      "cell_type": "code",
      "source": [
        "district_end=[]"
      ],
      "metadata": {
        "id": "3Pbg6x7PTbNx"
      },
      "execution_count": 38,
      "outputs": []
    },
    {
      "cell_type": "code",
      "source": [
        "for index, row in train_prep.iterrows():\n",
        "  district_end.append(district(row['end_longitude'],row['end_latitude']))"
      ],
      "metadata": {
        "id": "Xm5GNEy_Qp-F"
      },
      "execution_count": 39,
      "outputs": []
    },
    {
      "cell_type": "code",
      "source": [
        "train_prep['district_end']=pd.DataFrame(district_end)"
      ],
      "metadata": {
        "id": "Dy5bs_LcXGPs"
      },
      "execution_count": 40,
      "outputs": []
    },
    {
      "cell_type": "code",
      "source": [
        "# train_prep['start_longitude']=train['start_longitude'].copy()\n",
        "# train_prep['start_latitude']=train['start_latitude'].copy()"
      ],
      "metadata": {
        "id": "770fu3lk-y0C"
      },
      "execution_count": 41,
      "outputs": []
    },
    {
      "cell_type": "code",
      "source": [
        "start_long_min=min(train_prep['start_longitude'])\n",
        "start_lat_min=min(train_prep['start_latitude'])"
      ],
      "metadata": {
        "id": "8gyz-TbS-7ON"
      },
      "execution_count": 42,
      "outputs": []
    },
    {
      "cell_type": "code",
      "source": [
        "train_prep['start_longitude']=train_prep['start_longitude']-start_long_min\n",
        "train_prep['start_latitude']=train_prep['start_latitude']-start_lat_min"
      ],
      "metadata": {
        "id": "Z7p8rGkcZXGY"
      },
      "execution_count": 43,
      "outputs": []
    },
    {
      "cell_type": "code",
      "source": [
        "degree=-15\n",
        "rad = degree * (math.pi / 180.0)\n",
        "train_prep['start_longitude'] = math.cos(rad)*train_prep['start_longitude'] - math.sin(rad)*train_prep['start_latitude']\n",
        "train_prep['start_latitude'] = math.sin(rad)*train_prep['start_longitude'] + math.cos(rad)*train_prep['start_latitude']"
      ],
      "metadata": {
        "id": "BZrQkfygZi4f"
      },
      "execution_count": 44,
      "outputs": []
    },
    {
      "cell_type": "code",
      "source": [
        "train_prep['start_longitude']=train_prep['start_longitude']+start_long_min\n",
        "train_prep['start_latitude']=train_prep['start_latitude']+start_lat_min"
      ],
      "metadata": {
        "id": "8hLpjPvV_PXP"
      },
      "execution_count": 45,
      "outputs": []
    },
    {
      "cell_type": "code",
      "source": [
        "# x_q1=train_prep['start_longitude'].quantile(.25)\n",
        "# x_q2=train_prep['start_longitude'].quantile(.5)\n",
        "# x_q3=train_prep['start_longitude'].quantile(.75)\n",
        "\n",
        "# y_q1=train_prep['start_latitude'].quantile(.25)\n",
        "# y_q2=train_prep['start_latitude'].quantile(.5)\n",
        "# y_q3=train_prep['start_latitude'].quantile(.75)"
      ],
      "metadata": {
        "id": "KEGTOZNEZRKh"
      },
      "execution_count": 46,
      "outputs": []
    },
    {
      "cell_type": "code",
      "source": [
        "# district_start=[]"
      ],
      "metadata": {
        "id": "mYSbhVF1ZRHw"
      },
      "execution_count": 47,
      "outputs": []
    },
    {
      "cell_type": "code",
      "source": [
        "# for index, row in train_prep.iterrows():\n",
        "#   district_start.append(district(row['start_longitude'],row['start_latitude']))"
      ],
      "metadata": {
        "id": "RS5Eo6kNZRFG"
      },
      "execution_count": 48,
      "outputs": []
    },
    {
      "cell_type": "code",
      "source": [
        "# train_prep['district_start']=pd.DataFrame(district_start)"
      ],
      "metadata": {
        "id": "9bE9tt9FZ4Fp"
      },
      "execution_count": 49,
      "outputs": []
    },
    {
      "cell_type": "markdown",
      "source": [
        "### test data에도 적용"
      ],
      "metadata": {
        "id": "hy2HpIRFsmgP"
      }
    },
    {
      "cell_type": "code",
      "source": [
        "# test_prep['end_longitude']=test['end_longitude'].copy()\n",
        "# test_prep['end_latitude']=test['end_latitude'].copy()"
      ],
      "metadata": {
        "id": "OE5nhTAq_VuN"
      },
      "execution_count": 50,
      "outputs": []
    },
    {
      "cell_type": "code",
      "source": [
        "test_prep['end_longitude']=test_prep['end_longitude']-min(test_prep['end_longitude'])\n",
        "test_prep['end_latitude']=test_prep['end_latitude']-min(test_prep['end_latitude'])"
      ],
      "metadata": {
        "id": "XgyuvH8brYOW"
      },
      "execution_count": 51,
      "outputs": []
    },
    {
      "cell_type": "code",
      "source": [
        "degree=-15\n",
        "rad = degree * (math.pi / 180.0)\n",
        "test_prep['end_longitude'] = math.cos(rad)*test_prep['end_longitude'] - math.sin(rad)*test_prep['end_latitude']\n",
        "test_prep['end_latitude'] = math.sin(rad)*test_prep['end_longitude'] + math.cos(rad)*test_prep['end_latitude']"
      ],
      "metadata": {
        "id": "h9rPmYSCrhhu"
      },
      "execution_count": 52,
      "outputs": []
    },
    {
      "cell_type": "code",
      "source": [
        "test_prep['end_longitude']=test_prep['end_longitude']+min(test['end_longitude'])\n",
        "test_prep['end_latitude']=test_prep['end_latitude']-+min(test['end_latitude'])"
      ],
      "metadata": {
        "id": "XwOVTtMfAb85"
      },
      "execution_count": 53,
      "outputs": []
    },
    {
      "cell_type": "code",
      "source": [
        "x_q1=test_prep['end_longitude'].quantile(.25)\n",
        "x_q2=test_prep['end_longitude'].quantile(.5)\n",
        "x_q3=test_prep['end_longitude'].quantile(.75)\n",
        "\n",
        "y_q1=test_prep['end_latitude'].quantile(.25)\n",
        "y_q2=test_prep['end_latitude'].quantile(.5)\n",
        "y_q3=test_prep['end_latitude'].quantile(.75)"
      ],
      "metadata": {
        "id": "5s07Sz3EruM6"
      },
      "execution_count": 54,
      "outputs": []
    },
    {
      "cell_type": "code",
      "source": [
        "print(x_q1,x_q2,x_q3)\n",
        "print(y_q1,y_q2,y_q3)"
      ],
      "metadata": {
        "colab": {
          "base_uri": "https://localhost:8080/"
        },
        "id": "Jg2jRAH4BRrS",
        "outputId": "5ff30fd6-6474-40b9-aa84-ec5b92817b9d"
      },
      "execution_count": 55,
      "outputs": [
        {
          "output_type": "stream",
          "name": "stdout",
          "text": [
            "126.50278252343766 126.54638557896884 126.5880227513272\n",
            "-33.28571439587727 -33.252765724687556 -33.07203082659145\n"
          ]
        }
      ]
    },
    {
      "cell_type": "code",
      "source": [
        "district_end_y=[]"
      ],
      "metadata": {
        "id": "3uv8AGdHruIx"
      },
      "execution_count": 56,
      "outputs": []
    },
    {
      "cell_type": "code",
      "source": [
        "for index, row in test_prep.iterrows():\n",
        "  district_end_y.append(district(row['end_longitude'],row['end_latitude']))"
      ],
      "metadata": {
        "id": "uZXAmSdoruB_"
      },
      "execution_count": 57,
      "outputs": []
    },
    {
      "cell_type": "code",
      "source": [
        "test_prep['district_end']=pd.DataFrame(district_end_y)"
      ],
      "metadata": {
        "id": "bC1TukKgsdin"
      },
      "execution_count": 58,
      "outputs": []
    },
    {
      "cell_type": "code",
      "source": [
        "test_prep['start_longitude']=test_prep['start_longitude']-min(test_prep['start_longitude'])\n",
        "test_prep['start_latitude']=test_prep['start_latitude']-min(test_prep['start_latitude'])"
      ],
      "metadata": {
        "id": "rBroE3ntqg6C"
      },
      "execution_count": 59,
      "outputs": []
    },
    {
      "cell_type": "code",
      "source": [
        "degree=-15\n",
        "rad = degree * (math.pi / 180.0)\n",
        "test_prep['start_longitude'] = math.cos(rad)*test_prep['start_longitude'] - math.sin(rad)*test_prep['start_latitude']\n",
        "test_prep['start_latitude'] = math.sin(rad)*test_prep['start_longitude'] + math.cos(rad)*test_prep['start_latitude']"
      ],
      "metadata": {
        "id": "K3hTEfyRqksy"
      },
      "execution_count": 60,
      "outputs": []
    },
    {
      "cell_type": "code",
      "source": [
        "test_prep['start_longitude']=test_prep['start_longitude']+min(test['start_longitude'])\n",
        "test_prep['start_latitude']=test_prep['start_latitude']+min(test['start_latitude'])"
      ],
      "metadata": {
        "id": "vRE5CGamAhWo"
      },
      "execution_count": 61,
      "outputs": []
    },
    {
      "cell_type": "code",
      "source": [
        "# x_q1=test_prep['start_longitude'].quantile(.25)\n",
        "# x_q2=test_prep['start_longitude'].quantile(.5)\n",
        "# x_q3=test_prep['start_longitude'].quantile(.75)\n",
        "\n",
        "# y_q1=test_prep['start_latitude'].quantile(.25)\n",
        "# y_q2=test_prep['start_latitude'].quantile(.5)\n",
        "# y_q3=test_prep['start_latitude'].quantile(.75)"
      ],
      "metadata": {
        "id": "8DQTcsgWq7RX"
      },
      "execution_count": 62,
      "outputs": []
    },
    {
      "cell_type": "code",
      "source": [
        "# district_start_y=[]"
      ],
      "metadata": {
        "id": "2gd1A2PQrBC1"
      },
      "execution_count": 63,
      "outputs": []
    },
    {
      "cell_type": "code",
      "source": [
        "# for index, row in test_prep.iterrows():\n",
        "#   district_start_y.append(district(row['start_longitude'],row['start_latitude']))"
      ],
      "metadata": {
        "id": "rpwzn5Y3rOMp"
      },
      "execution_count": 64,
      "outputs": []
    },
    {
      "cell_type": "code",
      "source": [
        "# test_prep['district_start']=pd.DataFrame(district_start_y)"
      ],
      "metadata": {
        "id": "Oz9OBiyJrSf-"
      },
      "execution_count": 65,
      "outputs": []
    },
    {
      "cell_type": "markdown",
      "source": [
        "##'road_type' : drop"
      ],
      "metadata": {
        "id": "7O27x94pvdGa"
      }
    },
    {
      "cell_type": "code",
      "source": [
        "# train_prep['road_type']=train['road_type'].copy()\n",
        "# test_prep['road_type']=test['road_type'].copy()"
      ],
      "metadata": {
        "id": "1uknCIgIwGn_"
      },
      "execution_count": 66,
      "outputs": []
    },
    {
      "cell_type": "code",
      "source": [
        "# train_prep=train_prep.drop(columns='road_type')\n",
        "# test_prep=test_prep.drop(columns='road_type')"
      ],
      "metadata": {
        "id": "wpumpVEkvQ-N"
      },
      "execution_count": 67,
      "outputs": []
    },
    {
      "cell_type": "markdown",
      "source": [
        "# train test split을 통한 검증"
      ],
      "metadata": {
        "id": "NN1mpbWSvXyh"
      }
    },
    {
      "cell_type": "code",
      "source": [
        "X=train_prep.drop(columns='target')\n",
        "y=train_prep['target']"
      ],
      "metadata": {
        "id": "n4qSJZiGvECa"
      },
      "execution_count": 77,
      "outputs": []
    },
    {
      "cell_type": "code",
      "source": [
        "X"
      ],
      "metadata": {
        "colab": {
          "base_uri": "https://localhost:8080/",
          "height": 488
        },
        "id": "zzEnDf0i-tV5",
        "outputId": "dffa32b6-3527-4475-fc84-d0245368b219"
      },
      "execution_count": 69,
      "outputs": [
        {
          "output_type": "execute_result",
          "data": {
            "text/plain": [
              "         day_of_week  base_hour  lane_count  road_rating  road_name  \\\n",
              "0                  1         17           1          106         46   \n",
              "1                  1         21           2          103         34   \n",
              "2                  4          7           2          103         36   \n",
              "3                  2         13           2          107         57   \n",
              "4                  6          8           2          103         35   \n",
              "...              ...        ...         ...          ...        ...   \n",
              "4701212            1         16           1          107          0   \n",
              "4701213            1          2           2          107          0   \n",
              "4701214            5         22           2          103         35   \n",
              "4701215            0          2           2          103         37   \n",
              "4701216            6          6           2          107          1   \n",
              "\n",
              "         multi_linked  connect_code  maximum_speed_limit  weight_restricted  \\\n",
              "0                   0             0                 60.0            32400.0   \n",
              "1                   0             0                 60.0                0.0   \n",
              "2                   0             0                 80.0                0.0   \n",
              "3                   0             0                 50.0                0.0   \n",
              "4                   0             0                 80.0                0.0   \n",
              "...               ...           ...                  ...                ...   \n",
              "4701212             0             0                 50.0                0.0   \n",
              "4701213             0             0                 80.0            43200.0   \n",
              "4701214             0             0                 60.0                0.0   \n",
              "4701215             0             0                 80.0                0.0   \n",
              "4701216             0             0                 60.0                0.0   \n",
              "\n",
              "         road_type  ...  start_turn_restricted  end_node_name  end_latitude  \\\n",
              "0                3  ...                      0            386     33.289192   \n",
              "1                0  ...                      1              2     33.392490   \n",
              "2                0  ...                      0            179     33.231486   \n",
              "3                0  ...                      0            203     33.149447   \n",
              "4                0  ...                      0            269     33.403636   \n",
              "...            ...  ...                    ...            ...           ...   \n",
              "4701212          0  ...                      0             42     33.380231   \n",
              "4701213          3  ...                      0             31     33.388804   \n",
              "4701214          0  ...                      0            214     33.241256   \n",
              "4701215          0  ...                      0             23     33.361947   \n",
              "4701216          0  ...                      0            247     33.173809   \n",
              "\n",
              "         end_longitude  end_turn_restricted  year  month  holiday  tourist  \\\n",
              "0           126.693694                    0  2022      6        0  1283470   \n",
              "1           126.582181                    0  2022      7        0  1263332   \n",
              "2           126.365513                    0  2021     10        1  1222094   \n",
              "3           126.553709                    0  2022      3        0   873086   \n",
              "4           126.381869                    0  2021     10        0  1222094   \n",
              "...                ...                  ...   ...    ...      ...      ...   \n",
              "4701212     126.316591                    0  2021     11        0  1204344   \n",
              "4701213     126.475929                    0  2022      3        0   873086   \n",
              "4701214     126.940004                    0  2022      6        0  1283470   \n",
              "4701215     126.476957                    0  2021     10        0  1222094   \n",
              "4701216     126.502742                    0  2021     10        0  1222094   \n",
              "\n",
              "         district_end  \n",
              "0                  14  \n",
              "1                  12  \n",
              "2                   2  \n",
              "3                   9  \n",
              "4                   4  \n",
              "...               ...  \n",
              "4701212             4  \n",
              "4701213             8  \n",
              "4701214            14  \n",
              "4701215             7  \n",
              "4701216             5  \n",
              "\n",
              "[4701217 rows x 23 columns]"
            ],
            "text/html": [
              "\n",
              "  <div id=\"df-b1879e11-bb78-414c-bb3d-a369175fe23e\">\n",
              "    <div class=\"colab-df-container\">\n",
              "      <div>\n",
              "<style scoped>\n",
              "    .dataframe tbody tr th:only-of-type {\n",
              "        vertical-align: middle;\n",
              "    }\n",
              "\n",
              "    .dataframe tbody tr th {\n",
              "        vertical-align: top;\n",
              "    }\n",
              "\n",
              "    .dataframe thead th {\n",
              "        text-align: right;\n",
              "    }\n",
              "</style>\n",
              "<table border=\"1\" class=\"dataframe\">\n",
              "  <thead>\n",
              "    <tr style=\"text-align: right;\">\n",
              "      <th></th>\n",
              "      <th>day_of_week</th>\n",
              "      <th>base_hour</th>\n",
              "      <th>lane_count</th>\n",
              "      <th>road_rating</th>\n",
              "      <th>road_name</th>\n",
              "      <th>multi_linked</th>\n",
              "      <th>connect_code</th>\n",
              "      <th>maximum_speed_limit</th>\n",
              "      <th>weight_restricted</th>\n",
              "      <th>road_type</th>\n",
              "      <th>...</th>\n",
              "      <th>start_turn_restricted</th>\n",
              "      <th>end_node_name</th>\n",
              "      <th>end_latitude</th>\n",
              "      <th>end_longitude</th>\n",
              "      <th>end_turn_restricted</th>\n",
              "      <th>year</th>\n",
              "      <th>month</th>\n",
              "      <th>holiday</th>\n",
              "      <th>tourist</th>\n",
              "      <th>district_end</th>\n",
              "    </tr>\n",
              "  </thead>\n",
              "  <tbody>\n",
              "    <tr>\n",
              "      <th>0</th>\n",
              "      <td>1</td>\n",
              "      <td>17</td>\n",
              "      <td>1</td>\n",
              "      <td>106</td>\n",
              "      <td>46</td>\n",
              "      <td>0</td>\n",
              "      <td>0</td>\n",
              "      <td>60.0</td>\n",
              "      <td>32400.0</td>\n",
              "      <td>3</td>\n",
              "      <td>...</td>\n",
              "      <td>0</td>\n",
              "      <td>386</td>\n",
              "      <td>33.289192</td>\n",
              "      <td>126.693694</td>\n",
              "      <td>0</td>\n",
              "      <td>2022</td>\n",
              "      <td>6</td>\n",
              "      <td>0</td>\n",
              "      <td>1283470</td>\n",
              "      <td>14</td>\n",
              "    </tr>\n",
              "    <tr>\n",
              "      <th>1</th>\n",
              "      <td>1</td>\n",
              "      <td>21</td>\n",
              "      <td>2</td>\n",
              "      <td>103</td>\n",
              "      <td>34</td>\n",
              "      <td>0</td>\n",
              "      <td>0</td>\n",
              "      <td>60.0</td>\n",
              "      <td>0.0</td>\n",
              "      <td>0</td>\n",
              "      <td>...</td>\n",
              "      <td>1</td>\n",
              "      <td>2</td>\n",
              "      <td>33.392490</td>\n",
              "      <td>126.582181</td>\n",
              "      <td>0</td>\n",
              "      <td>2022</td>\n",
              "      <td>7</td>\n",
              "      <td>0</td>\n",
              "      <td>1263332</td>\n",
              "      <td>12</td>\n",
              "    </tr>\n",
              "    <tr>\n",
              "      <th>2</th>\n",
              "      <td>4</td>\n",
              "      <td>7</td>\n",
              "      <td>2</td>\n",
              "      <td>103</td>\n",
              "      <td>36</td>\n",
              "      <td>0</td>\n",
              "      <td>0</td>\n",
              "      <td>80.0</td>\n",
              "      <td>0.0</td>\n",
              "      <td>0</td>\n",
              "      <td>...</td>\n",
              "      <td>0</td>\n",
              "      <td>179</td>\n",
              "      <td>33.231486</td>\n",
              "      <td>126.365513</td>\n",
              "      <td>0</td>\n",
              "      <td>2021</td>\n",
              "      <td>10</td>\n",
              "      <td>1</td>\n",
              "      <td>1222094</td>\n",
              "      <td>2</td>\n",
              "    </tr>\n",
              "    <tr>\n",
              "      <th>3</th>\n",
              "      <td>2</td>\n",
              "      <td>13</td>\n",
              "      <td>2</td>\n",
              "      <td>107</td>\n",
              "      <td>57</td>\n",
              "      <td>0</td>\n",
              "      <td>0</td>\n",
              "      <td>50.0</td>\n",
              "      <td>0.0</td>\n",
              "      <td>0</td>\n",
              "      <td>...</td>\n",
              "      <td>0</td>\n",
              "      <td>203</td>\n",
              "      <td>33.149447</td>\n",
              "      <td>126.553709</td>\n",
              "      <td>0</td>\n",
              "      <td>2022</td>\n",
              "      <td>3</td>\n",
              "      <td>0</td>\n",
              "      <td>873086</td>\n",
              "      <td>9</td>\n",
              "    </tr>\n",
              "    <tr>\n",
              "      <th>4</th>\n",
              "      <td>6</td>\n",
              "      <td>8</td>\n",
              "      <td>2</td>\n",
              "      <td>103</td>\n",
              "      <td>35</td>\n",
              "      <td>0</td>\n",
              "      <td>0</td>\n",
              "      <td>80.0</td>\n",
              "      <td>0.0</td>\n",
              "      <td>0</td>\n",
              "      <td>...</td>\n",
              "      <td>0</td>\n",
              "      <td>269</td>\n",
              "      <td>33.403636</td>\n",
              "      <td>126.381869</td>\n",
              "      <td>0</td>\n",
              "      <td>2021</td>\n",
              "      <td>10</td>\n",
              "      <td>0</td>\n",
              "      <td>1222094</td>\n",
              "      <td>4</td>\n",
              "    </tr>\n",
              "    <tr>\n",
              "      <th>...</th>\n",
              "      <td>...</td>\n",
              "      <td>...</td>\n",
              "      <td>...</td>\n",
              "      <td>...</td>\n",
              "      <td>...</td>\n",
              "      <td>...</td>\n",
              "      <td>...</td>\n",
              "      <td>...</td>\n",
              "      <td>...</td>\n",
              "      <td>...</td>\n",
              "      <td>...</td>\n",
              "      <td>...</td>\n",
              "      <td>...</td>\n",
              "      <td>...</td>\n",
              "      <td>...</td>\n",
              "      <td>...</td>\n",
              "      <td>...</td>\n",
              "      <td>...</td>\n",
              "      <td>...</td>\n",
              "      <td>...</td>\n",
              "      <td>...</td>\n",
              "    </tr>\n",
              "    <tr>\n",
              "      <th>4701212</th>\n",
              "      <td>1</td>\n",
              "      <td>16</td>\n",
              "      <td>1</td>\n",
              "      <td>107</td>\n",
              "      <td>0</td>\n",
              "      <td>0</td>\n",
              "      <td>0</td>\n",
              "      <td>50.0</td>\n",
              "      <td>0.0</td>\n",
              "      <td>0</td>\n",
              "      <td>...</td>\n",
              "      <td>0</td>\n",
              "      <td>42</td>\n",
              "      <td>33.380231</td>\n",
              "      <td>126.316591</td>\n",
              "      <td>0</td>\n",
              "      <td>2021</td>\n",
              "      <td>11</td>\n",
              "      <td>0</td>\n",
              "      <td>1204344</td>\n",
              "      <td>4</td>\n",
              "    </tr>\n",
              "    <tr>\n",
              "      <th>4701213</th>\n",
              "      <td>1</td>\n",
              "      <td>2</td>\n",
              "      <td>2</td>\n",
              "      <td>107</td>\n",
              "      <td>0</td>\n",
              "      <td>0</td>\n",
              "      <td>0</td>\n",
              "      <td>80.0</td>\n",
              "      <td>43200.0</td>\n",
              "      <td>3</td>\n",
              "      <td>...</td>\n",
              "      <td>0</td>\n",
              "      <td>31</td>\n",
              "      <td>33.388804</td>\n",
              "      <td>126.475929</td>\n",
              "      <td>0</td>\n",
              "      <td>2022</td>\n",
              "      <td>3</td>\n",
              "      <td>0</td>\n",
              "      <td>873086</td>\n",
              "      <td>8</td>\n",
              "    </tr>\n",
              "    <tr>\n",
              "      <th>4701214</th>\n",
              "      <td>5</td>\n",
              "      <td>22</td>\n",
              "      <td>2</td>\n",
              "      <td>103</td>\n",
              "      <td>35</td>\n",
              "      <td>0</td>\n",
              "      <td>0</td>\n",
              "      <td>60.0</td>\n",
              "      <td>0.0</td>\n",
              "      <td>0</td>\n",
              "      <td>...</td>\n",
              "      <td>0</td>\n",
              "      <td>214</td>\n",
              "      <td>33.241256</td>\n",
              "      <td>126.940004</td>\n",
              "      <td>0</td>\n",
              "      <td>2022</td>\n",
              "      <td>6</td>\n",
              "      <td>0</td>\n",
              "      <td>1283470</td>\n",
              "      <td>14</td>\n",
              "    </tr>\n",
              "    <tr>\n",
              "      <th>4701215</th>\n",
              "      <td>0</td>\n",
              "      <td>2</td>\n",
              "      <td>2</td>\n",
              "      <td>103</td>\n",
              "      <td>37</td>\n",
              "      <td>0</td>\n",
              "      <td>0</td>\n",
              "      <td>80.0</td>\n",
              "      <td>0.0</td>\n",
              "      <td>0</td>\n",
              "      <td>...</td>\n",
              "      <td>0</td>\n",
              "      <td>23</td>\n",
              "      <td>33.361947</td>\n",
              "      <td>126.476957</td>\n",
              "      <td>0</td>\n",
              "      <td>2021</td>\n",
              "      <td>10</td>\n",
              "      <td>0</td>\n",
              "      <td>1222094</td>\n",
              "      <td>7</td>\n",
              "    </tr>\n",
              "    <tr>\n",
              "      <th>4701216</th>\n",
              "      <td>6</td>\n",
              "      <td>6</td>\n",
              "      <td>2</td>\n",
              "      <td>107</td>\n",
              "      <td>1</td>\n",
              "      <td>0</td>\n",
              "      <td>0</td>\n",
              "      <td>60.0</td>\n",
              "      <td>0.0</td>\n",
              "      <td>0</td>\n",
              "      <td>...</td>\n",
              "      <td>0</td>\n",
              "      <td>247</td>\n",
              "      <td>33.173809</td>\n",
              "      <td>126.502742</td>\n",
              "      <td>0</td>\n",
              "      <td>2021</td>\n",
              "      <td>10</td>\n",
              "      <td>0</td>\n",
              "      <td>1222094</td>\n",
              "      <td>5</td>\n",
              "    </tr>\n",
              "  </tbody>\n",
              "</table>\n",
              "<p>4701217 rows × 23 columns</p>\n",
              "</div>\n",
              "      <button class=\"colab-df-convert\" onclick=\"convertToInteractive('df-b1879e11-bb78-414c-bb3d-a369175fe23e')\"\n",
              "              title=\"Convert this dataframe to an interactive table.\"\n",
              "              style=\"display:none;\">\n",
              "        \n",
              "  <svg xmlns=\"http://www.w3.org/2000/svg\" height=\"24px\"viewBox=\"0 0 24 24\"\n",
              "       width=\"24px\">\n",
              "    <path d=\"M0 0h24v24H0V0z\" fill=\"none\"/>\n",
              "    <path d=\"M18.56 5.44l.94 2.06.94-2.06 2.06-.94-2.06-.94-.94-2.06-.94 2.06-2.06.94zm-11 1L8.5 8.5l.94-2.06 2.06-.94-2.06-.94L8.5 2.5l-.94 2.06-2.06.94zm10 10l.94 2.06.94-2.06 2.06-.94-2.06-.94-.94-2.06-.94 2.06-2.06.94z\"/><path d=\"M17.41 7.96l-1.37-1.37c-.4-.4-.92-.59-1.43-.59-.52 0-1.04.2-1.43.59L10.3 9.45l-7.72 7.72c-.78.78-.78 2.05 0 2.83L4 21.41c.39.39.9.59 1.41.59.51 0 1.02-.2 1.41-.59l7.78-7.78 2.81-2.81c.8-.78.8-2.07 0-2.86zM5.41 20L4 18.59l7.72-7.72 1.47 1.35L5.41 20z\"/>\n",
              "  </svg>\n",
              "      </button>\n",
              "      \n",
              "  <style>\n",
              "    .colab-df-container {\n",
              "      display:flex;\n",
              "      flex-wrap:wrap;\n",
              "      gap: 12px;\n",
              "    }\n",
              "\n",
              "    .colab-df-convert {\n",
              "      background-color: #E8F0FE;\n",
              "      border: none;\n",
              "      border-radius: 50%;\n",
              "      cursor: pointer;\n",
              "      display: none;\n",
              "      fill: #1967D2;\n",
              "      height: 32px;\n",
              "      padding: 0 0 0 0;\n",
              "      width: 32px;\n",
              "    }\n",
              "\n",
              "    .colab-df-convert:hover {\n",
              "      background-color: #E2EBFA;\n",
              "      box-shadow: 0px 1px 2px rgba(60, 64, 67, 0.3), 0px 1px 3px 1px rgba(60, 64, 67, 0.15);\n",
              "      fill: #174EA6;\n",
              "    }\n",
              "\n",
              "    [theme=dark] .colab-df-convert {\n",
              "      background-color: #3B4455;\n",
              "      fill: #D2E3FC;\n",
              "    }\n",
              "\n",
              "    [theme=dark] .colab-df-convert:hover {\n",
              "      background-color: #434B5C;\n",
              "      box-shadow: 0px 1px 3px 1px rgba(0, 0, 0, 0.15);\n",
              "      filter: drop-shadow(0px 1px 2px rgba(0, 0, 0, 0.3));\n",
              "      fill: #FFFFFF;\n",
              "    }\n",
              "  </style>\n",
              "\n",
              "      <script>\n",
              "        const buttonEl =\n",
              "          document.querySelector('#df-b1879e11-bb78-414c-bb3d-a369175fe23e button.colab-df-convert');\n",
              "        buttonEl.style.display =\n",
              "          google.colab.kernel.accessAllowed ? 'block' : 'none';\n",
              "\n",
              "        async function convertToInteractive(key) {\n",
              "          const element = document.querySelector('#df-b1879e11-bb78-414c-bb3d-a369175fe23e');\n",
              "          const dataTable =\n",
              "            await google.colab.kernel.invokeFunction('convertToInteractive',\n",
              "                                                     [key], {});\n",
              "          if (!dataTable) return;\n",
              "\n",
              "          const docLinkHtml = 'Like what you see? Visit the ' +\n",
              "            '<a target=\"_blank\" href=https://colab.research.google.com/notebooks/data_table.ipynb>data table notebook</a>'\n",
              "            + ' to learn more about interactive tables.';\n",
              "          element.innerHTML = '';\n",
              "          dataTable['output_type'] = 'display_data';\n",
              "          await google.colab.output.renderOutput(dataTable, element);\n",
              "          const docLink = document.createElement('div');\n",
              "          docLink.innerHTML = docLinkHtml;\n",
              "          element.appendChild(docLink);\n",
              "        }\n",
              "      </script>\n",
              "    </div>\n",
              "  </div>\n",
              "  "
            ]
          },
          "metadata": {},
          "execution_count": 69
        }
      ]
    },
    {
      "cell_type": "code",
      "source": [
        "from lightgbm import LGBMRegressor\n",
        "from sklearn.model_selection import train_test_split\n",
        "from sklearn.metrics import mean_absolute_error as mae\n",
        "X_train,X_val,y_train,y_val=train_test_split(X,y,\n",
        "                                               test_size=0.3, \n",
        "                                               shuffle=False, \n",
        "                                               random_state=2023\n",
        "                                               )\n",
        "\n",
        "model_lgbmR=LGBMRegressor(random_state=2023)\n",
        "model_lgbmR.fit(X_train,y_train)\n",
        "\n",
        "y_pred=model_lgbmR.predict(X_val)\n",
        "mae(y_val,y_pred)\n"
      ],
      "metadata": {
        "id": "WVIiiEnucjUh",
        "colab": {
          "base_uri": "https://localhost:8080/"
        },
        "outputId": "35cf7620-2d93-4fe5-a9d1-726dcaf0d0e3"
      },
      "execution_count": 78,
      "outputs": [
        {
          "output_type": "execute_result",
          "data": {
            "text/plain": [
              "4.651299145474926"
            ]
          },
          "metadata": {},
          "execution_count": 78
        }
      ]
    },
    {
      "cell_type": "markdown",
      "source": [
        "* base 모델 결과: 4.699195527102074\n",
        "* end 구간 추가: 4.649629707239353\n",
        "* start 구간 추가: 4.631140300370354\n",
        "* 'day' drop: 4.614508555025936"
      ],
      "metadata": {
        "id": "sTGf_vo5auLv"
      }
    },
    {
      "cell_type": "markdown",
      "source": [
        "# 제출 파일"
      ],
      "metadata": {
        "id": "eq4sY5ldjIwT"
      }
    },
    {
      "cell_type": "code",
      "source": [
        "X_test=test_prep\n",
        "\n",
        "model=LGBMRegressor(random_state=2023)\n",
        "model.fit(X,y)\n",
        "pred=model.predict(X_test)"
      ],
      "metadata": {
        "id": "il84WnADjMlr"
      },
      "execution_count": 71,
      "outputs": []
    },
    {
      "cell_type": "code",
      "source": [
        "submission_base=pd.DataFrame(pred,columns=['target'])\n",
        "submission_base=pd.concat([test['id'],submission_base],axis=1)\n",
        "submission_base.to_csv(\"submission_base5.csv\",index = False)"
      ],
      "metadata": {
        "id": "RiE6QefYldNo"
      },
      "execution_count": 74,
      "outputs": []
    },
    {
      "cell_type": "code",
      "source": [
        "submission_base"
      ],
      "metadata": {
        "colab": {
          "base_uri": "https://localhost:8080/",
          "height": 424
        },
        "id": "4rJauJBe7cgm",
        "outputId": "0ca6a2ee-0cc4-4ba1-9d8b-24a5759990ea"
      },
      "execution_count": 75,
      "outputs": [
        {
          "output_type": "execute_result",
          "data": {
            "text/plain": [
              "                 id     target\n",
              "0       TEST_000000  27.353713\n",
              "1       TEST_000001  39.782192\n",
              "2       TEST_000002  55.579813\n",
              "3       TEST_000003  45.512948\n",
              "4       TEST_000004  38.898982\n",
              "...             ...        ...\n",
              "291236  TEST_291236  48.008724\n",
              "291237  TEST_291237  48.864166\n",
              "291238  TEST_291238  20.941098\n",
              "291239  TEST_291239  27.718152\n",
              "291240  TEST_291240  46.218111\n",
              "\n",
              "[291241 rows x 2 columns]"
            ],
            "text/html": [
              "\n",
              "  <div id=\"df-0174663c-01bc-49df-aee6-531bc009ce25\">\n",
              "    <div class=\"colab-df-container\">\n",
              "      <div>\n",
              "<style scoped>\n",
              "    .dataframe tbody tr th:only-of-type {\n",
              "        vertical-align: middle;\n",
              "    }\n",
              "\n",
              "    .dataframe tbody tr th {\n",
              "        vertical-align: top;\n",
              "    }\n",
              "\n",
              "    .dataframe thead th {\n",
              "        text-align: right;\n",
              "    }\n",
              "</style>\n",
              "<table border=\"1\" class=\"dataframe\">\n",
              "  <thead>\n",
              "    <tr style=\"text-align: right;\">\n",
              "      <th></th>\n",
              "      <th>id</th>\n",
              "      <th>target</th>\n",
              "    </tr>\n",
              "  </thead>\n",
              "  <tbody>\n",
              "    <tr>\n",
              "      <th>0</th>\n",
              "      <td>TEST_000000</td>\n",
              "      <td>27.353713</td>\n",
              "    </tr>\n",
              "    <tr>\n",
              "      <th>1</th>\n",
              "      <td>TEST_000001</td>\n",
              "      <td>39.782192</td>\n",
              "    </tr>\n",
              "    <tr>\n",
              "      <th>2</th>\n",
              "      <td>TEST_000002</td>\n",
              "      <td>55.579813</td>\n",
              "    </tr>\n",
              "    <tr>\n",
              "      <th>3</th>\n",
              "      <td>TEST_000003</td>\n",
              "      <td>45.512948</td>\n",
              "    </tr>\n",
              "    <tr>\n",
              "      <th>4</th>\n",
              "      <td>TEST_000004</td>\n",
              "      <td>38.898982</td>\n",
              "    </tr>\n",
              "    <tr>\n",
              "      <th>...</th>\n",
              "      <td>...</td>\n",
              "      <td>...</td>\n",
              "    </tr>\n",
              "    <tr>\n",
              "      <th>291236</th>\n",
              "      <td>TEST_291236</td>\n",
              "      <td>48.008724</td>\n",
              "    </tr>\n",
              "    <tr>\n",
              "      <th>291237</th>\n",
              "      <td>TEST_291237</td>\n",
              "      <td>48.864166</td>\n",
              "    </tr>\n",
              "    <tr>\n",
              "      <th>291238</th>\n",
              "      <td>TEST_291238</td>\n",
              "      <td>20.941098</td>\n",
              "    </tr>\n",
              "    <tr>\n",
              "      <th>291239</th>\n",
              "      <td>TEST_291239</td>\n",
              "      <td>27.718152</td>\n",
              "    </tr>\n",
              "    <tr>\n",
              "      <th>291240</th>\n",
              "      <td>TEST_291240</td>\n",
              "      <td>46.218111</td>\n",
              "    </tr>\n",
              "  </tbody>\n",
              "</table>\n",
              "<p>291241 rows × 2 columns</p>\n",
              "</div>\n",
              "      <button class=\"colab-df-convert\" onclick=\"convertToInteractive('df-0174663c-01bc-49df-aee6-531bc009ce25')\"\n",
              "              title=\"Convert this dataframe to an interactive table.\"\n",
              "              style=\"display:none;\">\n",
              "        \n",
              "  <svg xmlns=\"http://www.w3.org/2000/svg\" height=\"24px\"viewBox=\"0 0 24 24\"\n",
              "       width=\"24px\">\n",
              "    <path d=\"M0 0h24v24H0V0z\" fill=\"none\"/>\n",
              "    <path d=\"M18.56 5.44l.94 2.06.94-2.06 2.06-.94-2.06-.94-.94-2.06-.94 2.06-2.06.94zm-11 1L8.5 8.5l.94-2.06 2.06-.94-2.06-.94L8.5 2.5l-.94 2.06-2.06.94zm10 10l.94 2.06.94-2.06 2.06-.94-2.06-.94-.94-2.06-.94 2.06-2.06.94z\"/><path d=\"M17.41 7.96l-1.37-1.37c-.4-.4-.92-.59-1.43-.59-.52 0-1.04.2-1.43.59L10.3 9.45l-7.72 7.72c-.78.78-.78 2.05 0 2.83L4 21.41c.39.39.9.59 1.41.59.51 0 1.02-.2 1.41-.59l7.78-7.78 2.81-2.81c.8-.78.8-2.07 0-2.86zM5.41 20L4 18.59l7.72-7.72 1.47 1.35L5.41 20z\"/>\n",
              "  </svg>\n",
              "      </button>\n",
              "      \n",
              "  <style>\n",
              "    .colab-df-container {\n",
              "      display:flex;\n",
              "      flex-wrap:wrap;\n",
              "      gap: 12px;\n",
              "    }\n",
              "\n",
              "    .colab-df-convert {\n",
              "      background-color: #E8F0FE;\n",
              "      border: none;\n",
              "      border-radius: 50%;\n",
              "      cursor: pointer;\n",
              "      display: none;\n",
              "      fill: #1967D2;\n",
              "      height: 32px;\n",
              "      padding: 0 0 0 0;\n",
              "      width: 32px;\n",
              "    }\n",
              "\n",
              "    .colab-df-convert:hover {\n",
              "      background-color: #E2EBFA;\n",
              "      box-shadow: 0px 1px 2px rgba(60, 64, 67, 0.3), 0px 1px 3px 1px rgba(60, 64, 67, 0.15);\n",
              "      fill: #174EA6;\n",
              "    }\n",
              "\n",
              "    [theme=dark] .colab-df-convert {\n",
              "      background-color: #3B4455;\n",
              "      fill: #D2E3FC;\n",
              "    }\n",
              "\n",
              "    [theme=dark] .colab-df-convert:hover {\n",
              "      background-color: #434B5C;\n",
              "      box-shadow: 0px 1px 3px 1px rgba(0, 0, 0, 0.15);\n",
              "      filter: drop-shadow(0px 1px 2px rgba(0, 0, 0, 0.3));\n",
              "      fill: #FFFFFF;\n",
              "    }\n",
              "  </style>\n",
              "\n",
              "      <script>\n",
              "        const buttonEl =\n",
              "          document.querySelector('#df-0174663c-01bc-49df-aee6-531bc009ce25 button.colab-df-convert');\n",
              "        buttonEl.style.display =\n",
              "          google.colab.kernel.accessAllowed ? 'block' : 'none';\n",
              "\n",
              "        async function convertToInteractive(key) {\n",
              "          const element = document.querySelector('#df-0174663c-01bc-49df-aee6-531bc009ce25');\n",
              "          const dataTable =\n",
              "            await google.colab.kernel.invokeFunction('convertToInteractive',\n",
              "                                                     [key], {});\n",
              "          if (!dataTable) return;\n",
              "\n",
              "          const docLinkHtml = 'Like what you see? Visit the ' +\n",
              "            '<a target=\"_blank\" href=https://colab.research.google.com/notebooks/data_table.ipynb>data table notebook</a>'\n",
              "            + ' to learn more about interactive tables.';\n",
              "          element.innerHTML = '';\n",
              "          dataTable['output_type'] = 'display_data';\n",
              "          await google.colab.output.renderOutput(dataTable, element);\n",
              "          const docLink = document.createElement('div');\n",
              "          docLink.innerHTML = docLinkHtml;\n",
              "          element.appendChild(docLink);\n",
              "        }\n",
              "      </script>\n",
              "    </div>\n",
              "  </div>\n",
              "  "
            ]
          },
          "metadata": {},
          "execution_count": 75
        }
      ]
    }
  ],
  "metadata": {
    "colab": {
      "provenance": []
    },
    "kernelspec": {
      "display_name": "Python 3",
      "name": "python3"
    },
    "language_info": {
      "name": "python"
    },
    "accelerator": "GPU",
    "gpuClass": "standard"
  },
  "nbformat": 4,
  "nbformat_minor": 0
}